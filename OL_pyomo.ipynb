{
  "nbformat": 4,
  "nbformat_minor": 0,
  "metadata": {
    "colab": {
      "name": "OL_finalCode.ipynb",
      "version": "0.3.2",
      "provenance": [],
      "collapsed_sections": [],
      "toc_visible": true
    },
    "kernelspec": {
      "name": "python3",
      "display_name": "Python 3"
    }
  },
  "cells": [
    {
      "metadata": {
        "id": "fMeK2JvyRo3b",
        "colab_type": "text"
      },
      "cell_type": "markdown",
      "source": [
        "# Predicting ECG Beats \n",
        "**Final Project Optimization and Learning**\n",
        "\n",
        "*Introduction*  \\\\\n",
        "\n",
        "Electrocardiograms are obtained on almost all patients who enter the hospital. It provides information about the electrical activity in the heart and is a crucial tool in medical care. Clinicians are taught to recognize and diagnose arrhythmias quickly from ECGs. However, clinicians are often busy with other tasks and may not always be present to monitor a patient's ECG. Automated detection of anomalies is an active area of research to better alert support staff and also for prognostic purposes. For instance, ventricular premature beats (VPB) are typically benign and can occur in health individuals. However, studies have demonstrated associations between VPBs and increased mortality, and VPBs may trigger other more dangerous arrhythmias. Being able to differentiate between VPBs and normal beats automatically may provide some clinical utility. \n"
      ]
    },
    {
      "metadata": {
        "id": "yJAe4XyiATV3",
        "colab_type": "text"
      },
      "cell_type": "markdown",
      "source": [
        "# Background\n",
        "For my final project, I'll be constructing a bilevel optimization problem using a logistic regression model with Ridge regression. I'll be working on the MIT Arrhythmia database where I've acquired 48 ECG traces from 47 patients. For each ECG trace, each beat has been annotated by an expert. To generate have a rich enough dataset, I decide to take each beat as a data sample and extract features from each sample to standardize the size of my inputs. I used the open source available hctsa package to extract 800 features."
      ]
    },
    {
      "metadata": {
        "id": "gS9RIf2bMERD",
        "colab_type": "code",
        "outputId": "10eb658c-f69c-40b0-d3a7-a7c69e73f858",
        "colab": {
          "base_uri": "https://localhost:8080/",
          "height": 700
        }
      },
      "cell_type": "code",
      "source": [
        "# Final Project Optimization and Learning\n",
        "# Creates a logistic regression model using Ridge regularization\n",
        "# \n",
        "!pip3 install pyomo # Install pyomo locally without printing out statement\n",
        "!apt-get install -y -qq glpk-utils\n",
        "!wget -N -q \"https://ampl.com/dl/open/couenne/couenne-linux64.zip\" && unzip -o -q couenne-linux64\n",
        "!wget -N -q \"https://ampl.com/dl/open/ipopt/ipopt-linux64.zip\" && unzip -o -q ipopt-linux64\n",
        "\n",
        "\n",
        "# Import of the pyomo module\n",
        "from pyomo.opt import SolverFactory\n",
        "# Import useful modules\n",
        "import os, sys, math, logging, shutil, time\n",
        "# Import numpy\n",
        "from __future__ import division\n",
        "import numpy as np\n",
        "import pyomo.environ as pyo\n",
        "import scipy"
      ],
      "execution_count": 0,
      "outputs": [
        {
          "output_type": "stream",
          "text": [
            "Collecting pyomo\n",
            "\u001b[?25l  Downloading https://files.pythonhosted.org/packages/e4/df/3f4a54d494d429102c035308168bfd71aa0fac31832385ab356cb44560df/Pyomo-5.6.1-py3-none-any.whl (2.1MB)\n",
            "\u001b[K    100% |████████████████████████████████| 2.1MB 15.2MB/s \n",
            "\u001b[?25hCollecting appdirs (from pyomo)\n",
            "  Downloading https://files.pythonhosted.org/packages/56/eb/810e700ed1349edde4cbdc1b2a21e28cdf115f9faf263f6bbf8447c1abf3/appdirs-1.4.3-py2.py3-none-any.whl\n",
            "Collecting PyUtilib>=5.6.5 (from pyomo)\n",
            "\u001b[?25l  Downloading https://files.pythonhosted.org/packages/43/04/9174c992ab7b5d5c9c29c0dce3ffbe2440dcfaf054a83b536f8253ce8384/PyUtilib-5.6.5-py2.py3-none-any.whl (250kB)\n",
            "\u001b[K    100% |████████████████████████████████| 256kB 37.9MB/s \n",
            "\u001b[?25hCollecting ply (from pyomo)\n",
            "\u001b[?25l  Downloading https://files.pythonhosted.org/packages/a3/58/35da89ee790598a0700ea49b2a66594140f44dec458c07e8e3d4979137fc/ply-3.11-py2.py3-none-any.whl (49kB)\n",
            "\u001b[K    100% |████████████████████████████████| 51kB 23.6MB/s \n",
            "\u001b[?25hRequirement already satisfied: six>=1.4 in /usr/local/lib/python3.6/dist-packages (from pyomo) (1.12.0)\n",
            "Requirement already satisfied: nose in /usr/local/lib/python3.6/dist-packages (from PyUtilib>=5.6.5->pyomo) (1.3.7)\n",
            "Installing collected packages: appdirs, PyUtilib, ply, pyomo\n",
            "Successfully installed PyUtilib-5.6.5 appdirs-1.4.3 ply-3.11 pyomo-5.6.1\n",
            "Selecting previously unselected package libsuitesparseconfig5:amd64.\n",
            "(Reading database ... 131304 files and directories currently installed.)\n",
            "Preparing to unpack .../libsuitesparseconfig5_1%3a5.1.2-2_amd64.deb ...\n",
            "Unpacking libsuitesparseconfig5:amd64 (1:5.1.2-2) ...\n",
            "Selecting previously unselected package libamd2:amd64.\n",
            "Preparing to unpack .../libamd2_1%3a5.1.2-2_amd64.deb ...\n",
            "Unpacking libamd2:amd64 (1:5.1.2-2) ...\n",
            "Selecting previously unselected package libcolamd2:amd64.\n",
            "Preparing to unpack .../libcolamd2_1%3a5.1.2-2_amd64.deb ...\n",
            "Unpacking libcolamd2:amd64 (1:5.1.2-2) ...\n",
            "Selecting previously unselected package libglpk40:amd64.\n",
            "Preparing to unpack .../libglpk40_4.65-1_amd64.deb ...\n",
            "Unpacking libglpk40:amd64 (4.65-1) ...\n",
            "Selecting previously unselected package glpk-utils.\n",
            "Preparing to unpack .../glpk-utils_4.65-1_amd64.deb ...\n",
            "Unpacking glpk-utils (4.65-1) ...\n",
            "Processing triggers for libc-bin (2.27-3ubuntu1) ...\n",
            "Setting up libsuitesparseconfig5:amd64 (1:5.1.2-2) ...\n",
            "Setting up libcolamd2:amd64 (1:5.1.2-2) ...\n",
            "Processing triggers for man-db (2.8.3-2ubuntu0.1) ...\n",
            "Setting up libamd2:amd64 (1:5.1.2-2) ...\n",
            "Setting up libglpk40:amd64 (4.65-1) ...\n",
            "Setting up glpk-utils (4.65-1) ...\n",
            "Processing triggers for libc-bin (2.27-3ubuntu1) ...\n"
          ],
          "name": "stdout"
        }
      ]
    },
    {
      "metadata": {
        "id": "ON8S-1GSctlZ",
        "colab_type": "code",
        "outputId": "a962d19c-2ab1-49a3-e420-e7bdfd660bc9",
        "colab": {
          "base_uri": "https://localhost:8080/",
          "height": 139
        }
      },
      "cell_type": "code",
      "source": [
        "# Importing Data from local\n",
        "# The importance of this was to load in PVCdata.mat\n",
        "from google.colab import drive\n",
        "drive.mount('/content/gdrive')\n",
        "os.chdir('/content/gdrive')\n",
        "print(os.getcwd())\n"
      ],
      "execution_count": 0,
      "outputs": [
        {
          "output_type": "stream",
          "text": [
            "Go to this URL in a browser: https://accounts.google.com/o/oauth2/auth?client_id=947318989803-6bn6qk8qdgf4n4g3pfee6491hc0brc4i.apps.googleusercontent.com&redirect_uri=urn%3Aietf%3Awg%3Aoauth%3A2.0%3Aoob&scope=email%20https%3A%2F%2Fwww.googleapis.com%2Fauth%2Fdocs.test%20https%3A%2F%2Fwww.googleapis.com%2Fauth%2Fdrive%20https%3A%2F%2Fwww.googleapis.com%2Fauth%2Fdrive.photos.readonly%20https%3A%2F%2Fwww.googleapis.com%2Fauth%2Fpeopleapi.readonly&response_type=code\n",
            "\n",
            "Enter your authorization code:\n",
            "··········\n",
            "Mounted at /content/gdrive\n",
            "/content/gdrive\n"
          ],
          "name": "stdout"
        }
      ]
    },
    {
      "metadata": {
        "id": "uBSQ7IrSgeiA",
        "colab_type": "code",
        "outputId": "02fde6da-8e65-477b-e641-d89eeffa39d4",
        "colab": {
          "base_uri": "https://localhost:8080/",
          "height": 51
        }
      },
      "cell_type": "code",
      "source": [
        "# Here we load in our data: PVCdata.mat\n",
        "\n",
        "from scipy.io import loadmat\n",
        "from sklearn.model_selection import train_test_split\n",
        "\n",
        "DATA = loadmat('/content/gdrive/My Drive/OL_FinalProject/PVCdata.mat')\n",
        "X = DATA['X'] # Each row represents a different beat\n",
        "Y = DATA['Y']\n",
        "\n",
        "X_train, X_test, Y_train, Y_test = train_test_split(X, Y, test_size=0.98, random_state=1)\n",
        "\n",
        "X_sets = np.random.permutation(np.arange(0,len(X_train)))\n",
        "\n",
        "# We'll perform cross-validation using 10 sets, 9 to train, 1 to validate each round\n",
        "m = len(Y_train)\n",
        "\n",
        "print(np.shape(X_train))\n",
        "print(np.shape(Y_train))"
      ],
      "execution_count": 0,
      "outputs": [
        {
          "output_type": "stream",
          "text": [
            "(318, 800)\n",
            "(318, 1)\n"
          ],
          "name": "stdout"
        }
      ]
    },
    {
      "metadata": {
        "id": "ElAXwDHGTUlZ",
        "colab_type": "text"
      },
      "cell_type": "markdown",
      "source": [
        "# Logistic Regression with Ridge Regression\n",
        "As we previously discussed in class, logistic regression solves a binary classification problem where:\n",
        "$$P(x_i) = \\dfrac{1}{1+exp(-w^Tx_i)} $$ \n",
        "refers to the probability that beat $i$ is a normal beat. We would like to devise a binary classification problem where given a dataset consisting of normal ECG beats and abnormal premature ventricular beats, can we figure out which beats are normal. \n",
        " \n"
      ]
    },
    {
      "metadata": {
        "id": "aj4ZbrmXMH1c",
        "colab_type": "text"
      },
      "cell_type": "markdown",
      "source": [
        "\n",
        "\n",
        "\n",
        "---\n",
        "\n",
        "\n",
        "\n",
        "---\n",
        "\n"
      ]
    },
    {
      "metadata": {
        "id": "KkyAbjjGTFvh",
        "colab_type": "code",
        "outputId": "a8c0fded-d297-4f6a-9b69-b8220b59f1f3",
        "colab": {
          "base_uri": "https://localhost:8080/",
          "height": 901
        }
      },
      "cell_type": "code",
      "source": [
        "\n",
        "# Initialize model:\n",
        "model = pyo.ConcreteModel()\n",
        "\n",
        "# Create Variables:\n",
        "num_pts = len(Y_train)-1\n",
        "y_tmp=(Y_train[0:num_pts])\n",
        "y = {}\n",
        "m = len(Y_train[0:num_pts])\n",
        "for i in range(m):\n",
        "  y[i] = np.asscalar(Y_train[i])\n",
        "\n",
        "d = 50  \n",
        "x = {}\n",
        "for i in range(m):\n",
        "  for j in range(d):\n",
        "    x[i,j] = np.asscalar(X_train[i,j])\n",
        "\n",
        "#x=X_train[0:200,0:10]\n",
        "model.I = pyo.Set(initialize=range(m)) # Number of patients\n",
        "model.J = pyo.Set(initialize=range(d)) # Number of features\n",
        "model.X = pyo.Param(model.I,model.J,initialize=x)\n",
        "model.Y = pyo.Param(model.I,initialize=y)\n",
        "#model.num_feat = Param(range(len(model.X)) # Number of features\n",
        "#print(np.shape(model.I))\n",
        "model.w  = pyo.Var(model.J)\n",
        "model.L  = pyo.Var(domain = pyo.NonNegativeReals)\n",
        "\n",
        "# Set up our constraints for our logistic regression\n",
        "model.constraints = pyo.ConstraintList()\n",
        "def constraint_rule1(model,j): # Lower Level Constraints \n",
        "  m = len(model.Y)\n",
        "  print('Constraint ' + str(j) + ' of ' + str(len(model.w)))\n",
        "  expr = {}\n",
        "  #for k in model.I:\n",
        "  #  expr[n] = pyo.sum(pyo.prod(model.X[n,k] for n in model.X,model.w[k]))\n",
        "  for n in range(len(model.Y)):\n",
        "    expr_k = 0\n",
        "    for k in range(len(model.w)):\n",
        "      expr_k += model.X[n,k]*model.w[k]\n",
        "    expr[n] = expr_k\n",
        "  #print('Debugger')\n",
        "  #print(expr)\n",
        "  summation=-(1/m)*sum(model.Y[n]/(1+pyo.exp(-model.Y[n]*expr[n]))*model.X[n,j] for n in (model.I))\n",
        "  #print(\"Summation Term\")\n",
        "  #print(summation)\n",
        "  #print(model.L*model.w[j])\n",
        "  #print(summation + 2*model.L*model.w[j] == 0)\n",
        "  return summation + 2*model.L*model.w[j] == 0\n",
        "#print(np.shape(x))\n",
        "\n",
        "print('Beginning constraints assignment...')\n",
        "model.LLConstraint = pyo.Constraint(model.J,rule=constraint_rule1)\n",
        "print('Completed constraint assignment.')\n"
      ],
      "execution_count": 0,
      "outputs": [
        {
          "output_type": "stream",
          "text": [
            "Beginning constraints assignment...\n",
            "Constraint 0 of 50\n",
            "Constraint 1 of 50\n",
            "Constraint 2 of 50\n",
            "Constraint 3 of 50\n",
            "Constraint 4 of 50\n",
            "Constraint 5 of 50\n",
            "Constraint 6 of 50\n",
            "Constraint 7 of 50\n",
            "Constraint 8 of 50\n",
            "Constraint 9 of 50\n",
            "Constraint 10 of 50\n",
            "Constraint 11 of 50\n",
            "Constraint 12 of 50\n",
            "Constraint 13 of 50\n",
            "Constraint 14 of 50\n",
            "Constraint 15 of 50\n",
            "Constraint 16 of 50\n",
            "Constraint 17 of 50\n",
            "Constraint 18 of 50\n",
            "Constraint 19 of 50\n",
            "Constraint 20 of 50\n",
            "Constraint 21 of 50\n",
            "Constraint 22 of 50\n",
            "Constraint 23 of 50\n",
            "Constraint 24 of 50\n",
            "Constraint 25 of 50\n",
            "Constraint 26 of 50\n",
            "Constraint 27 of 50\n",
            "Constraint 28 of 50\n",
            "Constraint 29 of 50\n",
            "Constraint 30 of 50\n",
            "Constraint 31 of 50\n",
            "Constraint 32 of 50\n",
            "Constraint 33 of 50\n",
            "Constraint 34 of 50\n",
            "Constraint 35 of 50\n",
            "Constraint 36 of 50\n",
            "Constraint 37 of 50\n",
            "Constraint 38 of 50\n",
            "Constraint 39 of 50\n",
            "Constraint 40 of 50\n",
            "Constraint 41 of 50\n",
            "Constraint 42 of 50\n",
            "Constraint 43 of 50\n",
            "Constraint 44 of 50\n",
            "Constraint 45 of 50\n",
            "Constraint 46 of 50\n",
            "Constraint 47 of 50\n",
            "Constraint 48 of 50\n",
            "Constraint 49 of 50\n",
            "Completed constraint assignment.\n"
          ],
          "name": "stdout"
        }
      ]
    },
    {
      "metadata": {
        "id": "XC80JOOu9x9T",
        "colab_type": "text"
      },
      "cell_type": "markdown",
      "source": [
        "# Loss Function\n",
        "The F1-score metric is normally non-differentiable. However, we can relax this to make the F1 score differentiable. From what we talked about in class with the Brier score and looking at this post: (https://www.kaggle.com/rejpalcz/best-loss-function-for-f1-score-metric), I come up with the modified F1 score. Instead of having a decision rule to figure out whether our prediction is 1 or 0, we can instead formulate two cases. First, if a given true label $y_i$ is 1 (a normal beat) and our prediction probability is 0.25, then we would say that the false positive is 0.25 and the true negative is 0.75. In the case where the true label $y_i$ is 0 and our prediction probability is 0.45, then we would say our true negative is 0.55 and our false positive is 0.45. "
      ]
    },
    {
      "metadata": {
        "id": "iXGp9F9J2Vn6",
        "colab_type": "code",
        "outputId": "7cfcf4f1-fe76-49a4-a266-465ccb73c474",
        "colab": {
          "base_uri": "https://localhost:8080/",
          "height": 139
        }
      },
      "cell_type": "code",
      "source": [
        "# We will now define the functions necesary for the F1 Score to be calculated\n",
        "# We will use the modified F1 score metric to be better compatible with\n",
        "\n",
        "def precision(x,y,w):\n",
        "  Px = np.exp(x.dot(w))>0.5\n",
        "  V = (y==1)*(Px==1) # This corresponds to the true positives\n",
        "  TP = V.sum()\n",
        "  U = (y==0)*(Px==1) # This corresponds to false positives\n",
        "  FP = U.sum()\n",
        "  prec = TP/(TP+FP)\n",
        "  return prec\n",
        "def recall(x,y,w):\n",
        "  Px = np.exp(x.dot(w))>0.5\n",
        "  V = (y==1)*(Px==1) # True positives\n",
        "  U = (y==1)*(Px==0) # False negatives\n",
        "  TP = V.sum()\n",
        "  FN = U.sum()\n",
        "  prec = TP/(TP+FN)\n",
        "  return prec\n",
        "def F1_score(model): \n",
        "  # Make this compatible with pyomo\n",
        "  # Instead of x,y,w we now have model.X,model.Y, and model.w\n",
        "  expr_TP = {} # Here we'll create an expression for prediction\n",
        "  expr_FN = {}\n",
        "  expr_FP = {}\n",
        "  expr_TN = {}\n",
        "  # n indexes the beat number, k indexes the features\n",
        "  m = len(model.Y) # Number of beats considered\n",
        "  for n in range(m):\n",
        "    expr_k = 0\n",
        "    for k in range(len(model.w)):\n",
        "      expr_k += model.X[n,k]*model.w[k]\n",
        "    expr_TP[n] = model.Y[n]*(1/(1+pyo.exp(-expr_k)))\n",
        "    expr_FN[n] = model.Y[n]*(pyo.exp(-expr_k)/(1+pyo.exp(-expr_k)))\n",
        "    expr_TN[n] =  (1-model.Y[n])*(pyo.exp(-expr_k)/(1+pyo.exp(-expr_k)))\n",
        "    expr_FP[n] = (1-model.Y[n])*(1/(1+pyo.exp(-expr_k)))\n",
        "  \n",
        "  # Perform the calculation now  \n",
        "  \n",
        "  precision = sum(expr_TP)/(sum(expr_TP) + sum(expr_FP))\n",
        "  recall = sum(expr_TP)/(sum(expr_TP) + sum(expr_FN) )\n",
        "\n",
        "  F1 = 2*precision*recall/(precision+recall)\n",
        "  return F1\n",
        "def F1_crossVal(x,y,w):\n",
        "  # Build this outside around the model.objective function instead\n",
        "  T = 10\n",
        "  lenx = len(x)\n",
        "  F1_t = np.zeros((T,1))\n",
        "  bins = np.arange(0,lenx,round(lenx/(T+1)))\n",
        "  bins[-1] = lenx # Adjust the last element\n",
        "  #print(np.shape(bins))\n",
        "  c = 0 # Counter index\n",
        "  for i in np.arange(0,T): # Treat set i as the validation set\n",
        "    xi = x[bins[i]:bins[i+1],:]\n",
        "    yi = y[bins[i]:bins[i+1]]\n",
        "    F1_t[c] = F1_score(xi,yi,w)\n",
        "    print(F1_t[c])\n",
        "    c += 1\n",
        "  F1_avg = (1/T)*F1_t.sum()\n",
        "  return F1_avg\n",
        "def sig(x,y,w):\n",
        "  # Assume y is a scalar and x is a vector\n",
        "  out = (1+math.e**(-y*(x.dot(w))))**(-1)\n",
        "  return out\n",
        "def sig_sum(x,y,w):\n",
        "  # x is a matrix, y is a vector, w is a vector               \n",
        "  out_vec = np.zeros((1,len(x[0,:])))\n",
        "  for i in np.arange(0,len(x)):\n",
        "    out_vec += -y[i]*sig(x[[i],:],y[i],w)*x[i,:]\n",
        "  out = 1/len(x)*out_vec\n",
        "  return out\n",
        "def lowerLevel_cons(x,y,w,L):\n",
        "  # Lower level constraints function\n",
        "  # For scipy, x is a matrix, y is a vector, w is a vector\n",
        "  out_vector = sig_sum(x,y,w) + w*L\n",
        "  return out_vector\n",
        "def upperLevel_obj(x,y,w):\n",
        "  m = len(x)\n",
        "  val = (1/m)*(1-F1_score(x,y,w))\n",
        "  return val\n",
        "model.objective = pyo.Objective(expr=(1/m)*(1-F1_score(model)),sense=pyo.minimize)"
      ],
      "execution_count": 0,
      "outputs": [
        {
          "output_type": "stream",
          "text": [
            "{0: 0, 1: <pyomo.core.expr.expr_pyomo5.ReciprocalExpression object at 0x7f52cfd435e8>, 2: 0, 3: 0, 4: 0, 5: <pyomo.core.expr.expr_pyomo5.ReciprocalExpression object at 0x7f52cfd377f8>, 6: <pyomo.core.expr.expr_pyomo5.ReciprocalExpression object at 0x7f52cfd329a8>, 7: 0, 8: 0, 9: <pyomo.core.expr.expr_pyomo5.ReciprocalExpression object at 0x7f52cfd28e88>, 10: 0, 11: <pyomo.core.expr.expr_pyomo5.ReciprocalExpression object at 0x7f52cfd1de88>, 12: 0, 13: <pyomo.core.expr.expr_pyomo5.ReciprocalExpression object at 0x7f52cfd181f8>, 14: <pyomo.core.expr.expr_pyomo5.ReciprocalExpression object at 0x7f52cfd105b8>, 15: 0, 16: 0, 17: 0, 18: 0, 19: 0, 20: 0, 21: <pyomo.core.expr.expr_pyomo5.ReciprocalExpression object at 0x7f52cfd77e58>, 22: <pyomo.core.expr.expr_pyomo5.ReciprocalExpression object at 0x7f52cfd73678>, 23: 0, 24: 0, 25: 0, 26: <pyomo.core.expr.expr_pyomo5.ReciprocalExpression object at 0x7f52cfd64468>, 27: 0, 28: <pyomo.core.expr.expr_pyomo5.ReciprocalExpression object at 0x7f52cfd5f6d8>, 29: <pyomo.core.expr.expr_pyomo5.ReciprocalExpression object at 0x7f52cfd59d98>, 30: 0, 31: 0, 32: 0, 33: <pyomo.core.expr.expr_pyomo5.ReciprocalExpression object at 0x7f52cfd4f5e8>, 34: <pyomo.core.expr.expr_pyomo5.ReciprocalExpression object at 0x7f52cfd4a6d8>, 35: <pyomo.core.expr.expr_pyomo5.ReciprocalExpression object at 0x7f52cfd4a258>, 36: <pyomo.core.expr.expr_pyomo5.ReciprocalExpression object at 0x7f52cfdc5768>, 37: <pyomo.core.expr.expr_pyomo5.ReciprocalExpression object at 0x7f52cfdbff18>, 38: 0, 39: 0, 40: <pyomo.core.expr.expr_pyomo5.ReciprocalExpression object at 0x7f52cfdb8858>, 41: 0, 42: 0, 43: <pyomo.core.expr.expr_pyomo5.ReciprocalExpression object at 0x7f52cfda1d38>, 44: <pyomo.core.expr.expr_pyomo5.ReciprocalExpression object at 0x7f52cfd9bb58>, 45: 0, 46: <pyomo.core.expr.expr_pyomo5.ReciprocalExpression object at 0x7f52cfd90df8>, 47: 0, 48: <pyomo.core.expr.expr_pyomo5.ReciprocalExpression object at 0x7f52cfd8ccd8>, 49: <pyomo.core.expr.expr_pyomo5.ReciprocalExpression object at 0x7f52cfdffa68>, 50: 0, 51: 0, 52: <pyomo.core.expr.expr_pyomo5.ReciprocalExpression object at 0x7f52cfdf9858>, 53: 0, 54: <pyomo.core.expr.expr_pyomo5.ReciprocalExpression object at 0x7f52cfdefb28>, 55: <pyomo.core.expr.expr_pyomo5.ReciprocalExpression object at 0x7f52cfdec048>, 56: 0, 57: <pyomo.core.expr.expr_pyomo5.ReciprocalExpression object at 0x7f52cfde7438>, 58: 0, 59: 0, 60: 0, 61: 0, 62: 0, 63: <pyomo.core.expr.expr_pyomo5.ReciprocalExpression object at 0x7f52cfe5e618>, 64: 0, 65: <pyomo.core.expr.expr_pyomo5.ReciprocalExpression object at 0x7f52cfdd3f78>, 66: 0, 67: 0, 68: 0, 69: 0, 70: 0, 71: <pyomo.core.expr.expr_pyomo5.ReciprocalExpression object at 0x7f52cff56828>, 72: <pyomo.core.expr.expr_pyomo5.ReciprocalExpression object at 0x7f52cff54978>, 73: 0, 74: <pyomo.core.expr.expr_pyomo5.ReciprocalExpression object at 0x7f52cffd4a98>, 75: 0, 76: <pyomo.core.expr.expr_pyomo5.ReciprocalExpression object at 0x7f52d0044648>, 77: <pyomo.core.expr.expr_pyomo5.ReciprocalExpression object at 0x7f52d002bdf8>, 78: <pyomo.core.expr.expr_pyomo5.ReciprocalExpression object at 0x7f52d0028528>, 79: <pyomo.core.expr.expr_pyomo5.ReciprocalExpression object at 0x7f52d01910a8>, 80: 0, 81: <pyomo.core.expr.expr_pyomo5.ReciprocalExpression object at 0x7f52d0615798>, 82: <pyomo.core.expr.expr_pyomo5.ReciprocalExpression object at 0x7f52d04e86d8>, 83: 0, 84: 0, 85: <pyomo.core.expr.expr_pyomo5.ReciprocalExpression object at 0x7f52d00b4be8>, 86: <pyomo.core.expr.expr_pyomo5.ReciprocalExpression object at 0x7f52d0046438>, 87: <pyomo.core.expr.expr_pyomo5.ReciprocalExpression object at 0x7f52d006ebb8>, 88: <pyomo.core.expr.expr_pyomo5.ReciprocalExpression object at 0x7f52cff53558>, 89: <pyomo.core.expr.expr_pyomo5.ReciprocalExpression object at 0x7f52cff3c738>, 90: 0, 91: 0, 92: 0, 93: 0, 94: 0, 95: <pyomo.core.expr.expr_pyomo5.ReciprocalExpression object at 0x7f52cfed8ee8>, 96: 0, 97: <pyomo.core.expr.expr_pyomo5.ReciprocalExpression object at 0x7f52cfedea38>, 98: <pyomo.core.expr.expr_pyomo5.ReciprocalExpression object at 0x7f52cfee3858>, 99: <pyomo.core.expr.expr_pyomo5.ReciprocalExpression object at 0x7f52cfef2d08>, 100: <pyomo.core.expr.expr_pyomo5.ReciprocalExpression object at 0x7f52cff00978>, 101: 0, 102: <pyomo.core.expr.expr_pyomo5.ReciprocalExpression object at 0x7f52cfe90768>, 103: 0, 104: <pyomo.core.expr.expr_pyomo5.ReciprocalExpression object at 0x7f52cfea5048>, 105: <pyomo.core.expr.expr_pyomo5.ReciprocalExpression object at 0x7f52cfeac738>, 106: <pyomo.core.expr.expr_pyomo5.ReciprocalExpression object at 0x7f52cfeae6a8>, 107: <pyomo.core.expr.expr_pyomo5.ReciprocalExpression object at 0x7f52cfebfa68>, 108: 0, 109: <pyomo.core.expr.expr_pyomo5.ReciprocalExpression object at 0x7f52cfe46048>, 110: 0, 111: <pyomo.core.expr.expr_pyomo5.ReciprocalExpression object at 0x7f52cfe531c8>, 112: 0, 113: <pyomo.core.expr.expr_pyomo5.ReciprocalExpression object at 0x7f52cfe60708>, 114: <pyomo.core.expr.expr_pyomo5.ReciprocalExpression object at 0x7f52cfe63768>, 115: <pyomo.core.expr.expr_pyomo5.ReciprocalExpression object at 0x7f52cfe633a8>, 116: <pyomo.core.expr.expr_pyomo5.ReciprocalExpression object at 0x7f52cfe70858>, 117: <pyomo.core.expr.expr_pyomo5.ReciprocalExpression object at 0x7f52cfe7ab58>, 118: <pyomo.core.expr.expr_pyomo5.ReciprocalExpression object at 0x7f52cfe72e28>, 119: <pyomo.core.expr.expr_pyomo5.ReciprocalExpression object at 0x7f52cfe0a588>, 120: <pyomo.core.expr.expr_pyomo5.ReciprocalExpression object at 0x7f52cfe0fc48>, 121: <pyomo.core.expr.expr_pyomo5.ReciprocalExpression object at 0x7f52cfe17468>, 122: 0, 123: <pyomo.core.expr.expr_pyomo5.ReciprocalExpression object at 0x7f52cfe27378>, 124: <pyomo.core.expr.expr_pyomo5.ReciprocalExpression object at 0x7f52cfe25be8>, 125: <pyomo.core.expr.expr_pyomo5.ReciprocalExpression object at 0x7f52cfe36438>, 126: <pyomo.core.expr.expr_pyomo5.ReciprocalExpression object at 0x7f52cfcecdc8>, 127: <pyomo.core.expr.expr_pyomo5.ReciprocalExpression object at 0x7f52cfc98888>, 128: <pyomo.core.expr.expr_pyomo5.ReciprocalExpression object at 0x7f52cfc9a318>, 129: <pyomo.core.expr.expr_pyomo5.ReciprocalExpression object at 0x7f52cfc9ad98>, 130: 0, 131: 0, 132: 0, 133: <pyomo.core.expr.expr_pyomo5.ReciprocalExpression object at 0x7f52cfca2828>, 134: 0, 135: 0, 136: 0, 137: 0, 138: <pyomo.core.expr.expr_pyomo5.ReciprocalExpression object at 0x7f52cfcabc18>, 139: <pyomo.core.expr.expr_pyomo5.ReciprocalExpression object at 0x7f52cfcad6a8>, 140: 0, 141: 0, 142: <pyomo.core.expr.expr_pyomo5.ReciprocalExpression object at 0x7f52cfcb3678>, 143: <pyomo.core.expr.expr_pyomo5.ReciprocalExpression object at 0x7f52cfcb5138>, 144: 0, 145: 0, 146: 0, 147: 0, 148: <pyomo.core.expr.expr_pyomo5.ReciprocalExpression object at 0x7f52cfcbe5e8>, 149: 0, 150: <pyomo.core.expr.expr_pyomo5.ReciprocalExpression object at 0x7f52cfcc1af8>, 151: <pyomo.core.expr.expr_pyomo5.ReciprocalExpression object at 0x7f52cfcc35b8>, 152: 0, 153: <pyomo.core.expr.expr_pyomo5.ReciprocalExpression object at 0x7f52cfc47a98>, 154: <pyomo.core.expr.expr_pyomo5.ReciprocalExpression object at 0x7f52cfc49528>, 155: 0, 156: 0, 157: <pyomo.core.expr.expr_pyomo5.ReciprocalExpression object at 0x7f52cfc4e4f8>, 158: 0, 159: 0, 160: <pyomo.core.expr.expr_pyomo5.ReciprocalExpression object at 0x7f52cfc55438>, 161: <pyomo.core.expr.expr_pyomo5.ReciprocalExpression object at 0x7f52cfc55eb8>, 162: 0, 163: 0, 164: <pyomo.core.expr.expr_pyomo5.ReciprocalExpression object at 0x7f52cfc5be28>, 165: 0, 166: <pyomo.core.expr.expr_pyomo5.ReciprocalExpression object at 0x7f52cfc603a8>, 167: <pyomo.core.expr.expr_pyomo5.ReciprocalExpression object at 0x7f52cfc60e28>, 168: 0, 169: <pyomo.core.expr.expr_pyomo5.ReciprocalExpression object at 0x7f52cfc67348>, 170: 0, 171: <pyomo.core.expr.expr_pyomo5.ReciprocalExpression object at 0x7f52cfc69828>, 172: 0, 173: <pyomo.core.expr.expr_pyomo5.ReciprocalExpression object at 0x7f52cfc6bd38>, 174: 0, 175: 0, 176: 0, 177: <pyomo.core.expr.expr_pyomo5.ReciprocalExpression object at 0x7f52cfc75798>, 178: 0, 179: <pyomo.core.expr.expr_pyomo5.ReciprocalExpression object at 0x7f52cfc77c78>, 180: <pyomo.core.expr.expr_pyomo5.ReciprocalExpression object at 0x7f52cfc7a708>, 181: <pyomo.core.expr.expr_pyomo5.ReciprocalExpression object at 0x7f52cfc7c1c8>, 182: <pyomo.core.expr.expr_pyomo5.ReciprocalExpression object at 0x7f52cfc7cc48>, 183: <pyomo.core.expr.expr_pyomo5.ReciprocalExpression object at 0x7f52cfc7f6d8>, 184: <pyomo.core.expr.expr_pyomo5.ReciprocalExpression object at 0x7f52cfc82198>, 185: <pyomo.core.expr.expr_pyomo5.ReciprocalExpression object at 0x7f52cfc82c18>, 186: 0, 187: <pyomo.core.expr.expr_pyomo5.ReciprocalExpression object at 0x7f52cfc080d8>, 188: 0, 189: 0, 190: 0, 191: <pyomo.core.expr.expr_pyomo5.ReciprocalExpression object at 0x7f52cfc0daf8>, 192: 0, 193: <pyomo.core.expr.expr_pyomo5.ReciprocalExpression object at 0x7f52cfc13048>, 194: <pyomo.core.expr.expr_pyomo5.ReciprocalExpression object at 0x7f52cfc13a98>, 195: <pyomo.core.expr.expr_pyomo5.ReciprocalExpression object at 0x7f52cfc16558>, 196: <pyomo.core.expr.expr_pyomo5.ReciprocalExpression object at 0x7f52cfc16fd8>, 197: 0, 198: 0, 199: 0, 200: 0, 201: <pyomo.core.expr.expr_pyomo5.ReciprocalExpression object at 0x7f52cfc214f8>, 202: <pyomo.core.expr.expr_pyomo5.ReciprocalExpression object at 0x7f52cfc21f48>, 203: <pyomo.core.expr.expr_pyomo5.ReciprocalExpression object at 0x7f52cfc24a08>, 204: <pyomo.core.expr.expr_pyomo5.ReciprocalExpression object at 0x7f52cfc274c8>, 205: <pyomo.core.expr.expr_pyomo5.ReciprocalExpression object at 0x7f52cfc27f48>, 206: <pyomo.core.expr.expr_pyomo5.ReciprocalExpression object at 0x7f52cfc29a08>, 207: 0, 208: <pyomo.core.expr.expr_pyomo5.ReciprocalExpression object at 0x7f52cfc2bf18>, 209: <pyomo.core.expr.expr_pyomo5.ReciprocalExpression object at 0x7f52cfc2f9a8>, 210: <pyomo.core.expr.expr_pyomo5.ReciprocalExpression object at 0x7f52cfc31468>, 211: <pyomo.core.expr.expr_pyomo5.ReciprocalExpression object at 0x7f52cfc31ee8>, 212: <pyomo.core.expr.expr_pyomo5.ReciprocalExpression object at 0x7f52cfc35978>, 213: 0, 214: <pyomo.core.expr.expr_pyomo5.ReciprocalExpression object at 0x7f52cfc37e88>, 215: 0, 216: 0, 217: <pyomo.core.expr.expr_pyomo5.ReciprocalExpression object at 0x7f52cfc3de58>, 218: 0, 219: <pyomo.core.expr.expr_pyomo5.ReciprocalExpression object at 0x7f52cfc42378>, 220: 0, 221: 0, 222: <pyomo.core.expr.expr_pyomo5.ReciprocalExpression object at 0x7f52cfbc82b8>, 223: 0, 224: <pyomo.core.expr.expr_pyomo5.ReciprocalExpression object at 0x7f52cfbcb7c8>, 225: <pyomo.core.expr.expr_pyomo5.ReciprocalExpression object at 0x7f52cfbce258>, 226: 0, 227: 0, 228: <pyomo.core.expr.expr_pyomo5.ReciprocalExpression object at 0x7f52cfbd21f8>, 229: <pyomo.core.expr.expr_pyomo5.ReciprocalExpression object at 0x7f52cfbd2c78>, 230: 0, 231: <pyomo.core.expr.expr_pyomo5.ReciprocalExpression object at 0x7f52cfbd81f8>, 232: 0, 233: <pyomo.core.expr.expr_pyomo5.ReciprocalExpression object at 0x7f52cfbdc708>, 234: 0, 235: 0, 236: <pyomo.core.expr.expr_pyomo5.ReciprocalExpression object at 0x7f52cfbe1648>, 237: 0, 238: 0, 239: <pyomo.core.expr.expr_pyomo5.ReciprocalExpression object at 0x7f52cfbe6618>, 240: 0, 241: <pyomo.core.expr.expr_pyomo5.ReciprocalExpression object at 0x7f52cfbeab28>, 242: 0, 243: 0, 244: 0, 245: <pyomo.core.expr.expr_pyomo5.ReciprocalExpression object at 0x7f52cfbf1588>, 246: 0, 247: <pyomo.core.expr.expr_pyomo5.ReciprocalExpression object at 0x7f52cfbf4a98>, 248: <pyomo.core.expr.expr_pyomo5.ReciprocalExpression object at 0x7f52cfbf8558>, 249: <pyomo.core.expr.expr_pyomo5.ReciprocalExpression object at 0x7f52cfbf8fd8>, 250: 0, 251: 0, 252: 0, 253: <pyomo.core.expr.expr_pyomo5.ReciprocalExpression object at 0x7f52cfbffa08>, 254: 0, 255: <pyomo.core.expr.expr_pyomo5.ReciprocalExpression object at 0x7f52cfc02f48>, 256: 0, 257: <pyomo.core.expr.expr_pyomo5.ReciprocalExpression object at 0x7f52cfb89468>, 258: 0, 259: 0, 260: <pyomo.core.expr.expr_pyomo5.ReciprocalExpression object at 0x7f52cfb8d468>, 261: 0, 262: 0, 263: <pyomo.core.expr.expr_pyomo5.ReciprocalExpression object at 0x7f52cfb92408>, 264: <pyomo.core.expr.expr_pyomo5.ReciprocalExpression object at 0x7f52cfb92e88>, 265: <pyomo.core.expr.expr_pyomo5.ReciprocalExpression object at 0x7f52cfb96918>, 266: 0, 267: 0, 268: 0, 269: 0, 270: 0, 271: <pyomo.core.expr.expr_pyomo5.ReciprocalExpression object at 0x7f52cfba08b8>, 272: 0, 273: <pyomo.core.expr.expr_pyomo5.ReciprocalExpression object at 0x7f52cfba4d98>, 274: <pyomo.core.expr.expr_pyomo5.ReciprocalExpression object at 0x7f52cfba6858>, 275: <pyomo.core.expr.expr_pyomo5.ReciprocalExpression object at 0x7f52cfbaa318>, 276: <pyomo.core.expr.expr_pyomo5.ReciprocalExpression object at 0x7f52cfbaad98>, 277: 0, 278: <pyomo.core.expr.expr_pyomo5.ReciprocalExpression object at 0x7f52cfbaf2e8>, 279: <pyomo.core.expr.expr_pyomo5.ReciprocalExpression object at 0x7f52cfbafd68>, 280: <pyomo.core.expr.expr_pyomo5.ReciprocalExpression object at 0x7f52cfbb2828>, 281: <pyomo.core.expr.expr_pyomo5.ReciprocalExpression object at 0x7f52cfbb42e8>, 282: 0, 283: 0, 284: <pyomo.core.expr.expr_pyomo5.ReciprocalExpression object at 0x7f52cfbba288>, 285: <pyomo.core.expr.expr_pyomo5.ReciprocalExpression object at 0x7f52cfbbad08>, 286: 0, 287: 0, 288: 0, 289: <pyomo.core.expr.expr_pyomo5.ReciprocalExpression object at 0x7f52cfbc4738>, 290: <pyomo.core.expr.expr_pyomo5.ReciprocalExpression object at 0x7f52cfb461c8>, 291: 0, 292: <pyomo.core.expr.expr_pyomo5.ReciprocalExpression object at 0x7f52cfb486d8>, 293: <pyomo.core.expr.expr_pyomo5.ReciprocalExpression object at 0x7f52cfb4c168>, 294: 0, 295: 0, 296: <pyomo.core.expr.expr_pyomo5.ReciprocalExpression object at 0x7f52cfb52108>, 297: <pyomo.core.expr.expr_pyomo5.ReciprocalExpression object at 0x7f52cfb52b88>, 298: 0, 299: <pyomo.core.expr.expr_pyomo5.ReciprocalExpression object at 0x7f52cfb570d8>, 300: <pyomo.core.expr.expr_pyomo5.ReciprocalExpression object at 0x7f52cfb57b28>, 301: 0, 302: 0, 303: <pyomo.core.expr.expr_pyomo5.ReciprocalExpression object at 0x7f52cfb5daf8>, 304: 0, 305: 0, 306: <pyomo.core.expr.expr_pyomo5.ReciprocalExpression object at 0x7f52cfb63af8>, 307: <pyomo.core.expr.expr_pyomo5.ReciprocalExpression object at 0x7f52cfb665b8>, 308: <pyomo.core.expr.expr_pyomo5.ReciprocalExpression object at 0x7f52cfb68078>, 309: <pyomo.core.expr.expr_pyomo5.ReciprocalExpression object at 0x7f52cfb68af8>, 310: <pyomo.core.expr.expr_pyomo5.ReciprocalExpression object at 0x7f52cfb6b5b8>, 311: <pyomo.core.expr.expr_pyomo5.ReciprocalExpression object at 0x7f52cfb6f048>, 312: 0, 313: <pyomo.core.expr.expr_pyomo5.ReciprocalExpression object at 0x7f52cfb71528>, 314: <pyomo.core.expr.expr_pyomo5.ReciprocalExpression object at 0x7f52cfb71fa8>, 315: 0, 316: <pyomo.core.expr.expr_pyomo5.ReciprocalExpression object at 0x7f52cfb76528>}\n",
            "{0: 0, 1: <pyomo.core.expr.expr_pyomo5.ProductExpression object at 0x7f52cfd436d8>, 2: 0, 3: 0, 4: 0, 5: <pyomo.core.expr.expr_pyomo5.ProductExpression object at 0x7f52cfd378b8>, 6: <pyomo.core.expr.expr_pyomo5.ProductExpression object at 0x7f52cfd32a68>, 7: 0, 8: 0, 9: <pyomo.core.expr.expr_pyomo5.ProductExpression object at 0x7f52cfd280d8>, 10: 0, 11: <pyomo.core.expr.expr_pyomo5.ProductExpression object at 0x7f52cfd1df48>, 12: 0, 13: <pyomo.core.expr.expr_pyomo5.ProductExpression object at 0x7f52cfd182b8>, 14: <pyomo.core.expr.expr_pyomo5.ProductExpression object at 0x7f52cfd10678>, 15: 0, 16: 0, 17: 0, 18: 0, 19: 0, 20: 0, 21: <pyomo.core.expr.expr_pyomo5.ProductExpression object at 0x7f52cfd77f18>, 22: <pyomo.core.expr.expr_pyomo5.ProductExpression object at 0x7f52cfd73738>, 23: 0, 24: 0, 25: 0, 26: <pyomo.core.expr.expr_pyomo5.ProductExpression object at 0x7f52cfd64528>, 27: 0, 28: <pyomo.core.expr.expr_pyomo5.ProductExpression object at 0x7f52cfd5f798>, 29: <pyomo.core.expr.expr_pyomo5.ProductExpression object at 0x7f52cfd59f18>, 30: 0, 31: 0, 32: 0, 33: <pyomo.core.expr.expr_pyomo5.ProductExpression object at 0x7f52cfd4f6a8>, 34: <pyomo.core.expr.expr_pyomo5.ProductExpression object at 0x7f52cfd4a768>, 35: <pyomo.core.expr.expr_pyomo5.ProductExpression object at 0x7f52cfd4a318>, 36: <pyomo.core.expr.expr_pyomo5.ProductExpression object at 0x7f52cfdc5828>, 37: <pyomo.core.expr.expr_pyomo5.ProductExpression object at 0x7f52cfdbffd8>, 38: 0, 39: 0, 40: <pyomo.core.expr.expr_pyomo5.ProductExpression object at 0x7f52cfdb8918>, 41: 0, 42: 0, 43: <pyomo.core.expr.expr_pyomo5.ProductExpression object at 0x7f52cfda1df8>, 44: <pyomo.core.expr.expr_pyomo5.ProductExpression object at 0x7f52cfd9bc48>, 45: 0, 46: <pyomo.core.expr.expr_pyomo5.ProductExpression object at 0x7f52cfd90eb8>, 47: 0, 48: <pyomo.core.expr.expr_pyomo5.ProductExpression object at 0x7f52cfd8c4f8>, 49: <pyomo.core.expr.expr_pyomo5.ProductExpression object at 0x7f52cfdffb28>, 50: 0, 51: 0, 52: <pyomo.core.expr.expr_pyomo5.ProductExpression object at 0x7f52cfdf9918>, 53: 0, 54: <pyomo.core.expr.expr_pyomo5.ProductExpression object at 0x7f52cfdefca8>, 55: <pyomo.core.expr.expr_pyomo5.ProductExpression object at 0x7f52cfdec108>, 56: 0, 57: <pyomo.core.expr.expr_pyomo5.ProductExpression object at 0x7f52cfde74f8>, 58: 0, 59: 0, 60: 0, 61: 0, 62: 0, 63: <pyomo.core.expr.expr_pyomo5.ProductExpression object at 0x7f52cfe5e5e8>, 64: 0, 65: <pyomo.core.expr.expr_pyomo5.ProductExpression object at 0x7f52cff09618>, 66: 0, 67: 0, 68: 0, 69: 0, 70: 0, 71: <pyomo.core.expr.expr_pyomo5.ProductExpression object at 0x7f52cff4efa8>, 72: <pyomo.core.expr.expr_pyomo5.ProductExpression object at 0x7f52cff54a38>, 73: 0, 74: <pyomo.core.expr.expr_pyomo5.ProductExpression object at 0x7f52cffd4b88>, 75: 0, 76: <pyomo.core.expr.expr_pyomo5.ProductExpression object at 0x7f52d0044078>, 77: <pyomo.core.expr.expr_pyomo5.ProductExpression object at 0x7f52d002bee8>, 78: <pyomo.core.expr.expr_pyomo5.ProductExpression object at 0x7f52d00285e8>, 79: <pyomo.core.expr.expr_pyomo5.ProductExpression object at 0x7f52d0191b58>, 80: 0, 81: <pyomo.core.expr.expr_pyomo5.ProductExpression object at 0x7f52d073dc78>, 82: <pyomo.core.expr.expr_pyomo5.ProductExpression object at 0x7f52d0631fd8>, 83: 0, 84: 0, 85: <pyomo.core.expr.expr_pyomo5.ProductExpression object at 0x7f52d00b4c78>, 86: <pyomo.core.expr.expr_pyomo5.ProductExpression object at 0x7f52d00464f8>, 87: <pyomo.core.expr.expr_pyomo5.ProductExpression object at 0x7f52d006ec78>, 88: <pyomo.core.expr.expr_pyomo5.ProductExpression object at 0x7f52cff0c318>, 89: <pyomo.core.expr.expr_pyomo5.ProductExpression object at 0x7f52cff3c078>, 90: 0, 91: 0, 92: 0, 93: 0, 94: 0, 95: <pyomo.core.expr.expr_pyomo5.ProductExpression object at 0x7f52cfed8fa8>, 96: 0, 97: <pyomo.core.expr.expr_pyomo5.ProductExpression object at 0x7f52cfedeb28>, 98: <pyomo.core.expr.expr_pyomo5.ProductExpression object at 0x7f52cfee3918>, 99: <pyomo.core.expr.expr_pyomo5.ProductExpression object at 0x7f52cfef2dc8>, 100: <pyomo.core.expr.expr_pyomo5.ProductExpression object at 0x7f52cff00a08>, 101: 0, 102: <pyomo.core.expr.expr_pyomo5.ProductExpression object at 0x7f52cfe90828>, 103: 0, 104: <pyomo.core.expr.expr_pyomo5.ProductExpression object at 0x7f52cfea5108>, 105: <pyomo.core.expr.expr_pyomo5.ProductExpression object at 0x7f52cfeac708>, 106: <pyomo.core.expr.expr_pyomo5.ProductExpression object at 0x7f52cfeae768>, 107: <pyomo.core.expr.expr_pyomo5.ProductExpression object at 0x7f52cfec3d08>, 108: 0, 109: <pyomo.core.expr.expr_pyomo5.ProductExpression object at 0x7f52cfe46108>, 110: 0, 111: <pyomo.core.expr.expr_pyomo5.ProductExpression object at 0x7f52cfe53bb8>, 112: 0, 113: <pyomo.core.expr.expr_pyomo5.ProductExpression object at 0x7f52cfe600d8>, 114: <pyomo.core.expr.expr_pyomo5.ProductExpression object at 0x7f52cfe63828>, 115: <pyomo.core.expr.expr_pyomo5.ProductExpression object at 0x7f52cfe630a8>, 116: <pyomo.core.expr.expr_pyomo5.ProductExpression object at 0x7f52cfe70918>, 117: <pyomo.core.expr.expr_pyomo5.ProductExpression object at 0x7f52cfe7ac18>, 118: <pyomo.core.expr.expr_pyomo5.ProductExpression object at 0x7f52cfe72ee8>, 119: <pyomo.core.expr.expr_pyomo5.ProductExpression object at 0x7f52cfe7fd68>, 120: <pyomo.core.expr.expr_pyomo5.ProductExpression object at 0x7f52cfe19e28>, 121: <pyomo.core.expr.expr_pyomo5.ProductExpression object at 0x7f52cfe17528>, 122: 0, 123: <pyomo.core.expr.expr_pyomo5.ProductExpression object at 0x7f52cfe27438>, 124: <pyomo.core.expr.expr_pyomo5.ProductExpression object at 0x7f52cfe25ca8>, 125: <pyomo.core.expr.expr_pyomo5.ProductExpression object at 0x7f52cfe364f8>, 126: <pyomo.core.expr.expr_pyomo5.ProductExpression object at 0x7f52cfcece88>, 127: <pyomo.core.expr.expr_pyomo5.ProductExpression object at 0x7f52cfc98948>, 128: <pyomo.core.expr.expr_pyomo5.ProductExpression object at 0x7f52cfc9a3d8>, 129: <pyomo.core.expr.expr_pyomo5.ProductExpression object at 0x7f52cfc9ae58>, 130: 0, 131: 0, 132: 0, 133: <pyomo.core.expr.expr_pyomo5.ProductExpression object at 0x7f52cfca28e8>, 134: 0, 135: 0, 136: 0, 137: 0, 138: <pyomo.core.expr.expr_pyomo5.ProductExpression object at 0x7f52cfcabcd8>, 139: <pyomo.core.expr.expr_pyomo5.ProductExpression object at 0x7f52cfcad768>, 140: 0, 141: 0, 142: <pyomo.core.expr.expr_pyomo5.ProductExpression object at 0x7f52cfcb3738>, 143: <pyomo.core.expr.expr_pyomo5.ProductExpression object at 0x7f52cfcb51f8>, 144: 0, 145: 0, 146: 0, 147: 0, 148: <pyomo.core.expr.expr_pyomo5.ProductExpression object at 0x7f52cfcbe6a8>, 149: 0, 150: <pyomo.core.expr.expr_pyomo5.ProductExpression object at 0x7f52cfcc1bb8>, 151: <pyomo.core.expr.expr_pyomo5.ProductExpression object at 0x7f52cfcc3678>, 152: 0, 153: <pyomo.core.expr.expr_pyomo5.ProductExpression object at 0x7f52cfc47b58>, 154: <pyomo.core.expr.expr_pyomo5.ProductExpression object at 0x7f52cfc495e8>, 155: 0, 156: 0, 157: <pyomo.core.expr.expr_pyomo5.ProductExpression object at 0x7f52cfc4e5b8>, 158: 0, 159: 0, 160: <pyomo.core.expr.expr_pyomo5.ProductExpression object at 0x7f52cfc554f8>, 161: <pyomo.core.expr.expr_pyomo5.ProductExpression object at 0x7f52cfc55f78>, 162: 0, 163: 0, 164: <pyomo.core.expr.expr_pyomo5.ProductExpression object at 0x7f52cfc5bee8>, 165: 0, 166: <pyomo.core.expr.expr_pyomo5.ProductExpression object at 0x7f52cfc60468>, 167: <pyomo.core.expr.expr_pyomo5.ProductExpression object at 0x7f52cfc60ee8>, 168: 0, 169: <pyomo.core.expr.expr_pyomo5.ProductExpression object at 0x7f52cfc67408>, 170: 0, 171: <pyomo.core.expr.expr_pyomo5.ProductExpression object at 0x7f52cfc698e8>, 172: 0, 173: <pyomo.core.expr.expr_pyomo5.ProductExpression object at 0x7f52cfc6bdf8>, 174: 0, 175: 0, 176: 0, 177: <pyomo.core.expr.expr_pyomo5.ProductExpression object at 0x7f52cfc75858>, 178: 0, 179: <pyomo.core.expr.expr_pyomo5.ProductExpression object at 0x7f52cfc77d38>, 180: <pyomo.core.expr.expr_pyomo5.ProductExpression object at 0x7f52cfc7a7c8>, 181: <pyomo.core.expr.expr_pyomo5.ProductExpression object at 0x7f52cfc7c288>, 182: <pyomo.core.expr.expr_pyomo5.ProductExpression object at 0x7f52cfc7cd08>, 183: <pyomo.core.expr.expr_pyomo5.ProductExpression object at 0x7f52cfc7f798>, 184: <pyomo.core.expr.expr_pyomo5.ProductExpression object at 0x7f52cfc82258>, 185: <pyomo.core.expr.expr_pyomo5.ProductExpression object at 0x7f52cfc82cd8>, 186: 0, 187: <pyomo.core.expr.expr_pyomo5.ProductExpression object at 0x7f52cfc08198>, 188: 0, 189: 0, 190: 0, 191: <pyomo.core.expr.expr_pyomo5.ProductExpression object at 0x7f52cfc0dbb8>, 192: 0, 193: <pyomo.core.expr.expr_pyomo5.ProductExpression object at 0x7f52cfc13108>, 194: <pyomo.core.expr.expr_pyomo5.ProductExpression object at 0x7f52cfc13b58>, 195: <pyomo.core.expr.expr_pyomo5.ProductExpression object at 0x7f52cfc16618>, 196: <pyomo.core.expr.expr_pyomo5.ProductExpression object at 0x7f52cfc180d8>, 197: 0, 198: 0, 199: 0, 200: 0, 201: <pyomo.core.expr.expr_pyomo5.ProductExpression object at 0x7f52cfc215b8>, 202: <pyomo.core.expr.expr_pyomo5.ProductExpression object at 0x7f52cfc24048>, 203: <pyomo.core.expr.expr_pyomo5.ProductExpression object at 0x7f52cfc24ac8>, 204: <pyomo.core.expr.expr_pyomo5.ProductExpression object at 0x7f52cfc27588>, 205: <pyomo.core.expr.expr_pyomo5.ProductExpression object at 0x7f52cfc29048>, 206: <pyomo.core.expr.expr_pyomo5.ProductExpression object at 0x7f52cfc29ac8>, 207: 0, 208: <pyomo.core.expr.expr_pyomo5.ProductExpression object at 0x7f52cfc2bfd8>, 209: <pyomo.core.expr.expr_pyomo5.ProductExpression object at 0x7f52cfc2fa68>, 210: <pyomo.core.expr.expr_pyomo5.ProductExpression object at 0x7f52cfc31528>, 211: <pyomo.core.expr.expr_pyomo5.ProductExpression object at 0x7f52cfc31fa8>, 212: <pyomo.core.expr.expr_pyomo5.ProductExpression object at 0x7f52cfc35a38>, 213: 0, 214: <pyomo.core.expr.expr_pyomo5.ProductExpression object at 0x7f52cfc37f48>, 215: 0, 216: 0, 217: <pyomo.core.expr.expr_pyomo5.ProductExpression object at 0x7f52cfc3df18>, 218: 0, 219: <pyomo.core.expr.expr_pyomo5.ProductExpression object at 0x7f52cfc42438>, 220: 0, 221: 0, 222: <pyomo.core.expr.expr_pyomo5.ProductExpression object at 0x7f52cfbc8378>, 223: 0, 224: <pyomo.core.expr.expr_pyomo5.ProductExpression object at 0x7f52cfbcb888>, 225: <pyomo.core.expr.expr_pyomo5.ProductExpression object at 0x7f52cfbce318>, 226: 0, 227: 0, 228: <pyomo.core.expr.expr_pyomo5.ProductExpression object at 0x7f52cfbd22b8>, 229: <pyomo.core.expr.expr_pyomo5.ProductExpression object at 0x7f52cfbd2d38>, 230: 0, 231: <pyomo.core.expr.expr_pyomo5.ProductExpression object at 0x7f52cfbd82b8>, 232: 0, 233: <pyomo.core.expr.expr_pyomo5.ProductExpression object at 0x7f52cfbdc7c8>, 234: 0, 235: 0, 236: <pyomo.core.expr.expr_pyomo5.ProductExpression object at 0x7f52cfbe1708>, 237: 0, 238: 0, 239: <pyomo.core.expr.expr_pyomo5.ProductExpression object at 0x7f52cfbe66d8>, 240: 0, 241: <pyomo.core.expr.expr_pyomo5.ProductExpression object at 0x7f52cfbeabe8>, 242: 0, 243: 0, 244: 0, 245: <pyomo.core.expr.expr_pyomo5.ProductExpression object at 0x7f52cfbf1648>, 246: 0, 247: <pyomo.core.expr.expr_pyomo5.ProductExpression object at 0x7f52cfbf4b58>, 248: <pyomo.core.expr.expr_pyomo5.ProductExpression object at 0x7f52cfbf8618>, 249: <pyomo.core.expr.expr_pyomo5.ProductExpression object at 0x7f52cfbfa0d8>, 250: 0, 251: 0, 252: 0, 253: <pyomo.core.expr.expr_pyomo5.ProductExpression object at 0x7f52cfbffac8>, 254: 0, 255: <pyomo.core.expr.expr_pyomo5.ProductExpression object at 0x7f52cfc05048>, 256: 0, 257: <pyomo.core.expr.expr_pyomo5.ProductExpression object at 0x7f52cfb89528>, 258: 0, 259: 0, 260: <pyomo.core.expr.expr_pyomo5.ProductExpression object at 0x7f52cfb8d528>, 261: 0, 262: 0, 263: <pyomo.core.expr.expr_pyomo5.ProductExpression object at 0x7f52cfb924c8>, 264: <pyomo.core.expr.expr_pyomo5.ProductExpression object at 0x7f52cfb92f48>, 265: <pyomo.core.expr.expr_pyomo5.ProductExpression object at 0x7f52cfb969d8>, 266: 0, 267: 0, 268: 0, 269: 0, 270: 0, 271: <pyomo.core.expr.expr_pyomo5.ProductExpression object at 0x7f52cfba0978>, 272: 0, 273: <pyomo.core.expr.expr_pyomo5.ProductExpression object at 0x7f52cfba4e58>, 274: <pyomo.core.expr.expr_pyomo5.ProductExpression object at 0x7f52cfba6918>, 275: <pyomo.core.expr.expr_pyomo5.ProductExpression object at 0x7f52cfbaa3d8>, 276: <pyomo.core.expr.expr_pyomo5.ProductExpression object at 0x7f52cfbaae58>, 277: 0, 278: <pyomo.core.expr.expr_pyomo5.ProductExpression object at 0x7f52cfbaf3a8>, 279: <pyomo.core.expr.expr_pyomo5.ProductExpression object at 0x7f52cfbafe28>, 280: <pyomo.core.expr.expr_pyomo5.ProductExpression object at 0x7f52cfbb28e8>, 281: <pyomo.core.expr.expr_pyomo5.ProductExpression object at 0x7f52cfbb43a8>, 282: 0, 283: 0, 284: <pyomo.core.expr.expr_pyomo5.ProductExpression object at 0x7f52cfbba348>, 285: <pyomo.core.expr.expr_pyomo5.ProductExpression object at 0x7f52cfbbadc8>, 286: 0, 287: 0, 288: 0, 289: <pyomo.core.expr.expr_pyomo5.ProductExpression object at 0x7f52cfbc47f8>, 290: <pyomo.core.expr.expr_pyomo5.ProductExpression object at 0x7f52cfb46288>, 291: 0, 292: <pyomo.core.expr.expr_pyomo5.ProductExpression object at 0x7f52cfb48798>, 293: <pyomo.core.expr.expr_pyomo5.ProductExpression object at 0x7f52cfb4c228>, 294: 0, 295: 0, 296: <pyomo.core.expr.expr_pyomo5.ProductExpression object at 0x7f52cfb521c8>, 297: <pyomo.core.expr.expr_pyomo5.ProductExpression object at 0x7f52cfb52c48>, 298: 0, 299: <pyomo.core.expr.expr_pyomo5.ProductExpression object at 0x7f52cfb57198>, 300: <pyomo.core.expr.expr_pyomo5.ProductExpression object at 0x7f52cfb57be8>, 301: 0, 302: 0, 303: <pyomo.core.expr.expr_pyomo5.ProductExpression object at 0x7f52cfb5dbb8>, 304: 0, 305: 0, 306: <pyomo.core.expr.expr_pyomo5.ProductExpression object at 0x7f52cfb63bb8>, 307: <pyomo.core.expr.expr_pyomo5.ProductExpression object at 0x7f52cfb66678>, 308: <pyomo.core.expr.expr_pyomo5.ProductExpression object at 0x7f52cfb68138>, 309: <pyomo.core.expr.expr_pyomo5.ProductExpression object at 0x7f52cfb68bb8>, 310: <pyomo.core.expr.expr_pyomo5.ProductExpression object at 0x7f52cfb6b678>, 311: <pyomo.core.expr.expr_pyomo5.ProductExpression object at 0x7f52cfb6f108>, 312: 0, 313: <pyomo.core.expr.expr_pyomo5.ProductExpression object at 0x7f52cfb715e8>, 314: <pyomo.core.expr.expr_pyomo5.ProductExpression object at 0x7f52cfb740a8>, 315: 0, 316: <pyomo.core.expr.expr_pyomo5.ProductExpression object at 0x7f52cfb765e8>}\n",
            "{0: <pyomo.core.expr.expr_pyomo5.ProductExpression object at 0x7f52cfcd2cd8>, 1: 0, 2: <pyomo.core.expr.expr_pyomo5.ProductExpression object at 0x7f52cfd43768>, 3: <pyomo.core.expr.expr_pyomo5.ProductExpression object at 0x7f52cfd3af78>, 4: <pyomo.core.expr.expr_pyomo5.ProductExpression object at 0x7f52cfd3d978>, 5: 0, 6: 0, 7: <pyomo.core.expr.expr_pyomo5.ProductExpression object at 0x7f52cfd32b28>, 8: <pyomo.core.expr.expr_pyomo5.ProductExpression object at 0x7f52cfd2d918>, 9: 0, 10: <pyomo.core.expr.expr_pyomo5.ProductExpression object at 0x7f52cfd243a8>, 11: 0, 12: <pyomo.core.expr.expr_pyomo5.ProductExpression object at 0x7f52cfd20048>, 13: 0, 14: 0, 15: <pyomo.core.expr.expr_pyomo5.ProductExpression object at 0x7f52cfd0bd68>, 16: <pyomo.core.expr.expr_pyomo5.ProductExpression object at 0x7f52cfd0be88>, 17: <pyomo.core.expr.expr_pyomo5.ProductExpression object at 0x7f52cfd06bb8>, 18: <pyomo.core.expr.expr_pyomo5.ProductExpression object at 0x7f52cfd81798>, 19: <pyomo.core.expr.expr_pyomo5.ProductExpression object at 0x7f52cfd7eeb8>, 20: <pyomo.core.expr.expr_pyomo5.ProductExpression object at 0x7f52cfd7b3a8>, 21: 0, 22: 0, 23: <pyomo.core.expr.expr_pyomo5.ProductExpression object at 0x7f52cfd714c8>, 24: <pyomo.core.expr.expr_pyomo5.ProductExpression object at 0x7f52cfd66a98>, 25: <pyomo.core.expr.expr_pyomo5.ProductExpression object at 0x7f52cfd648b8>, 26: 0, 27: <pyomo.core.expr.expr_pyomo5.ProductExpression object at 0x7f52cfd61888>, 28: 0, 29: 0, 30: <pyomo.core.expr.expr_pyomo5.ProductExpression object at 0x7f52cfd547f8>, 31: <pyomo.core.expr.expr_pyomo5.ProductExpression object at 0x7f52cfd57378>, 32: <pyomo.core.expr.expr_pyomo5.ProductExpression object at 0x7f52cfd527f8>, 33: 0, 34: 0, 35: 0, 36: 0, 37: 0, 38: <pyomo.core.expr.expr_pyomo5.ProductExpression object at 0x7f52cfdbd2b8>, 39: <pyomo.core.expr.expr_pyomo5.ProductExpression object at 0x7f52cfdbb1f8>, 40: 0, 41: <pyomo.core.expr.expr_pyomo5.ProductExpression object at 0x7f52cfdb5678>, 42: <pyomo.core.expr.expr_pyomo5.ProductExpression object at 0x7f52cfdabee8>, 43: 0, 44: 0, 45: <pyomo.core.expr.expr_pyomo5.ProductExpression object at 0x7f52cfd94cd8>, 46: 0, 47: <pyomo.core.expr.expr_pyomo5.ProductExpression object at 0x7f52cfd90f78>, 48: 0, 49: 0, 50: <pyomo.core.expr.expr_pyomo5.ProductExpression object at 0x7f52cfdfc8b8>, 51: <pyomo.core.expr.expr_pyomo5.ProductExpression object at 0x7f52cfdfc9d8>, 52: 0, 53: <pyomo.core.expr.expr_pyomo5.ProductExpression object at 0x7f52cfdf76a8>, 54: 0, 55: 0, 56: <pyomo.core.expr.expr_pyomo5.ProductExpression object at 0x7f52cfdea138>, 57: 0, 58: <pyomo.core.expr.expr_pyomo5.ProductExpression object at 0x7f52cfde2918>, 59: <pyomo.core.expr.expr_pyomo5.ProductExpression object at 0x7f52cfde2a38>, 60: <pyomo.core.expr.expr_pyomo5.ProductExpression object at 0x7f52cfdddc78>, 61: <pyomo.core.expr.expr_pyomo5.ProductExpression object at 0x7f52cfdddd98>, 62: <pyomo.core.expr.expr_pyomo5.ProductExpression object at 0x7f52cfdd8cd8>, 63: 0, 64: <pyomo.core.expr.expr_pyomo5.ProductExpression object at 0x7f52cfe5e768>, 65: 0, 66: <pyomo.core.expr.expr_pyomo5.ProductExpression object at 0x7f52cff0bc48>, 67: <pyomo.core.expr.expr_pyomo5.ProductExpression object at 0x7f52cff7d168>, 68: <pyomo.core.expr.expr_pyomo5.ProductExpression object at 0x7f52cff6e7f8>, 69: <pyomo.core.expr.expr_pyomo5.ProductExpression object at 0x7f52cff70708>, 70: <pyomo.core.expr.expr_pyomo5.ProductExpression object at 0x7f52cff598e8>, 71: 0, 72: 0, 73: <pyomo.core.expr.expr_pyomo5.ProductExpression object at 0x7f52cff9df78>, 74: 0, 75: <pyomo.core.expr.expr_pyomo5.ProductExpression object at 0x7f52cffc7f78>, 76: 0, 77: 0, 78: 0, 79: 0, 80: <pyomo.core.expr.expr_pyomo5.ProductExpression object at 0x7f52d0719708>, 81: 0, 82: 0, 83: <pyomo.core.expr.expr_pyomo5.ProductExpression object at 0x7f52d0532f48>, 84: <pyomo.core.expr.expr_pyomo5.ProductExpression object at 0x7f52d0090fd8>, 85: 0, 86: 0, 87: 0, 88: 0, 89: 0, 90: <pyomo.core.expr.expr_pyomo5.ProductExpression object at 0x7f52cff41618>, 91: <pyomo.core.expr.expr_pyomo5.ProductExpression object at 0x7f52cff3fd38>, 92: <pyomo.core.expr.expr_pyomo5.ProductExpression object at 0x7f52cff44f18>, 93: <pyomo.core.expr.expr_pyomo5.ProductExpression object at 0x7f52cfecbac8>, 94: <pyomo.core.expr.expr_pyomo5.ProductExpression object at 0x7f52cfed4af8>, 95: 0, 96: <pyomo.core.expr.expr_pyomo5.ProductExpression object at 0x7f52cfed68e8>, 97: 0, 98: 0, 99: 0, 100: 0, 101: <pyomo.core.expr.expr_pyomo5.ProductExpression object at 0x7f52cfef8e88>, 102: 0, 103: <pyomo.core.expr.expr_pyomo5.ProductExpression object at 0x7f52cfe9c468>, 104: 0, 105: 0, 106: 0, 107: 0, 108: <pyomo.core.expr.expr_pyomo5.ProductExpression object at 0x7f52cfec1e28>, 109: 0, 110: <pyomo.core.expr.expr_pyomo5.ProductExpression object at 0x7f52cfe50ac8>, 111: 0, 112: <pyomo.core.expr.expr_pyomo5.ProductExpression object at 0x7f52cfe5b798>, 113: 0, 114: 0, 115: 0, 116: 0, 117: 0, 118: 0, 119: 0, 120: 0, 121: 0, 122: <pyomo.core.expr.expr_pyomo5.ProductExpression object at 0x7f52cfe224f8>, 123: 0, 124: 0, 125: 0, 126: 0, 127: 0, 128: 0, 129: 0, 130: <pyomo.core.expr.expr_pyomo5.ProductExpression object at 0x7f52cfc9c858>, 131: <pyomo.core.expr.expr_pyomo5.ProductExpression object at 0x7f52cfca02e8>, 132: <pyomo.core.expr.expr_pyomo5.ProductExpression object at 0x7f52cfca0408>, 133: 0, 134: <pyomo.core.expr.expr_pyomo5.ProductExpression object at 0x7f52cfca52b8>, 135: <pyomo.core.expr.expr_pyomo5.ProductExpression object at 0x7f52cfca53d8>, 136: <pyomo.core.expr.expr_pyomo5.ProductExpression object at 0x7f52cfca8738>, 137: <pyomo.core.expr.expr_pyomo5.ProductExpression object at 0x7f52cfcab1c8>, 138: 0, 139: 0, 140: <pyomo.core.expr.expr_pyomo5.ProductExpression object at 0x7f52cfcb0138>, 141: <pyomo.core.expr.expr_pyomo5.ProductExpression object at 0x7f52cfcb0258>, 142: 0, 143: 0, 144: <pyomo.core.expr.expr_pyomo5.ProductExpression object at 0x7f52cfcb52b8>, 145: <pyomo.core.expr.expr_pyomo5.ProductExpression object at 0x7f52cfcb9648>, 146: <pyomo.core.expr.expr_pyomo5.ProductExpression object at 0x7f52cfcbb108>, 147: <pyomo.core.expr.expr_pyomo5.ProductExpression object at 0x7f52cfcbb228>, 148: 0, 149: <pyomo.core.expr.expr_pyomo5.ProductExpression object at 0x7f52cfcc1078>, 150: 0, 151: 0, 152: <pyomo.core.expr.expr_pyomo5.ProductExpression object at 0x7f52cfc47048>, 153: 0, 154: 0, 155: <pyomo.core.expr.expr_pyomo5.ProductExpression object at 0x7f52cfc4c048>, 156: <pyomo.core.expr.expr_pyomo5.ProductExpression object at 0x7f52cfc4c108>, 157: 0, 158: <pyomo.core.expr.expr_pyomo5.ProductExpression object at 0x7f52cfc4e678>, 159: <pyomo.core.expr.expr_pyomo5.ProductExpression object at 0x7f52cfc52078>, 160: 0, 161: 0, 162: <pyomo.core.expr.expr_pyomo5.ProductExpression object at 0x7f52cfc59948>, 163: <pyomo.core.expr.expr_pyomo5.ProductExpression object at 0x7f52cfc5b3d8>, 164: 0, 165: <pyomo.core.expr.expr_pyomo5.ProductExpression object at 0x7f52cfc5d8e8>, 166: 0, 167: 0, 168: <pyomo.core.expr.expr_pyomo5.ProductExpression object at 0x7f52cfc64888>, 169: 0, 170: <pyomo.core.expr.expr_pyomo5.ProductExpression object at 0x7f52cfc674c8>, 171: 0, 172: <pyomo.core.expr.expr_pyomo5.ProductExpression object at 0x7f52cfc6b2b8>, 173: 0, 174: <pyomo.core.expr.expr_pyomo5.ProductExpression object at 0x7f52cfc6e7c8>, 175: <pyomo.core.expr.expr_pyomo5.ProductExpression object at 0x7f52cfc70258>, 176: <pyomo.core.expr.expr_pyomo5.ProductExpression object at 0x7f52cfc70378>, 177: 0, 178: <pyomo.core.expr.expr_pyomo5.ProductExpression object at 0x7f52cfc77228>, 179: 0, 180: 0, 181: 0, 182: 0, 183: 0, 184: 0, 185: 0, 186: <pyomo.core.expr.expr_pyomo5.ProductExpression object at 0x7f52cfc85648>, 187: 0, 188: <pyomo.core.expr.expr_pyomo5.ProductExpression object at 0x7f52cfc08258>, 189: <pyomo.core.expr.expr_pyomo5.ProductExpression object at 0x7f52cfc0a5e8>, 190: <pyomo.core.expr.expr_pyomo5.ProductExpression object at 0x7f52cfc0d0a8>, 191: 0, 192: <pyomo.core.expr.expr_pyomo5.ProductExpression object at 0x7f52cfc10588>, 193: 0, 194: 0, 195: 0, 196: 0, 197: <pyomo.core.expr.expr_pyomo5.ProductExpression object at 0x7f52cfc18198>, 198: <pyomo.core.expr.expr_pyomo5.ProductExpression object at 0x7f52cfc1b558>, 199: <pyomo.core.expr.expr_pyomo5.ProductExpression object at 0x7f52cfc1e048>, 200: <pyomo.core.expr.expr_pyomo5.ProductExpression object at 0x7f52cfc1e108>, 201: 0, 202: 0, 203: 0, 204: 0, 205: 0, 206: 0, 207: <pyomo.core.expr.expr_pyomo5.ProductExpression object at 0x7f52cfc2b4c8>, 208: 0, 209: 0, 210: 0, 211: 0, 212: 0, 213: <pyomo.core.expr.expr_pyomo5.ProductExpression object at 0x7f52cfc37408>, 214: 0, 215: <pyomo.core.expr.expr_pyomo5.ProductExpression object at 0x7f52cfc3a948>, 216: <pyomo.core.expr.expr_pyomo5.ProductExpression object at 0x7f52cfc3d408>, 217: 0, 218: <pyomo.core.expr.expr_pyomo5.ProductExpression object at 0x7f52cfc3f8e8>, 219: 0, 220: <pyomo.core.expr.expr_pyomo5.ProductExpression object at 0x7f52cfc424f8>, 221: <pyomo.core.expr.expr_pyomo5.ProductExpression object at 0x7f52cfc457f8>, 222: 0, 223: <pyomo.core.expr.expr_pyomo5.ProductExpression object at 0x7f52cfbc8438>, 224: 0, 225: 0, 226: <pyomo.core.expr.expr_pyomo5.ProductExpression object at 0x7f52cfbce3d8>, 227: <pyomo.core.expr.expr_pyomo5.ProductExpression object at 0x7f52cfbd0768>, 228: 0, 229: 0, 230: <pyomo.core.expr.expr_pyomo5.ProductExpression object at 0x7f52cfbd6738>, 231: 0, 232: <pyomo.core.expr.expr_pyomo5.ProductExpression object at 0x7f52cfbd8378>, 233: 0, 234: <pyomo.core.expr.expr_pyomo5.ProductExpression object at 0x7f52cfbde168>, 235: <pyomo.core.expr.expr_pyomo5.ProductExpression object at 0x7f52cfbde288>, 236: 0, 237: <pyomo.core.expr.expr_pyomo5.ProductExpression object at 0x7f52cfbe30d8>, 238: <pyomo.core.expr.expr_pyomo5.ProductExpression object at 0x7f52cfbe31f8>, 239: 0, 240: <pyomo.core.expr.expr_pyomo5.ProductExpression object at 0x7f52cfbea0a8>, 241: 0, 242: <pyomo.core.expr.expr_pyomo5.ProductExpression object at 0x7f52cfbec5e8>, 243: <pyomo.core.expr.expr_pyomo5.ProductExpression object at 0x7f52cfbef078>, 244: <pyomo.core.expr.expr_pyomo5.ProductExpression object at 0x7f52cfbef198>, 245: 0, 246: <pyomo.core.expr.expr_pyomo5.ProductExpression object at 0x7f52cfbf4048>, 247: 0, 248: 0, 249: 0, 250: <pyomo.core.expr.expr_pyomo5.ProductExpression object at 0x7f52cfbfa198>, 251: <pyomo.core.expr.expr_pyomo5.ProductExpression object at 0x7f52cfbfd4f8>, 252: <pyomo.core.expr.expr_pyomo5.ProductExpression object at 0x7f52cfbfd618>, 253: 0, 254: <pyomo.core.expr.expr_pyomo5.ProductExpression object at 0x7f52cfc024c8>, 255: 0, 256: <pyomo.core.expr.expr_pyomo5.ProductExpression object at 0x7f52cfc05108>, 257: 0, 258: <pyomo.core.expr.expr_pyomo5.ProductExpression object at 0x7f52cfb895e8>, 259: <pyomo.core.expr.expr_pyomo5.ProductExpression object at 0x7f52cfb8b048>, 260: 0, 261: <pyomo.core.expr.expr_pyomo5.ProductExpression object at 0x7f52cfb8d5e8>, 262: <pyomo.core.expr.expr_pyomo5.ProductExpression object at 0x7f52cfb90978>, 263: 0, 264: 0, 265: 0, 266: <pyomo.core.expr.expr_pyomo5.ProductExpression object at 0x7f52cfb993d8>, 267: <pyomo.core.expr.expr_pyomo5.ProductExpression object at 0x7f52cfb994f8>, 268: <pyomo.core.expr.expr_pyomo5.ProductExpression object at 0x7f52cfb9c8e8>, 269: <pyomo.core.expr.expr_pyomo5.ProductExpression object at 0x7f52cfb9e378>, 270: <pyomo.core.expr.expr_pyomo5.ProductExpression object at 0x7f52cfb9e498>, 271: 0, 272: <pyomo.core.expr.expr_pyomo5.ProductExpression object at 0x7f52cfba4348>, 273: 0, 274: 0, 275: 0, 276: 0, 277: <pyomo.core.expr.expr_pyomo5.ProductExpression object at 0x7f52cfbac858>, 278: 0, 279: 0, 280: 0, 281: 0, 282: <pyomo.core.expr.expr_pyomo5.ProductExpression object at 0x7f52cfbb4468>, 283: <pyomo.core.expr.expr_pyomo5.ProductExpression object at 0x7f52cfbb77c8>, 284: 0, 285: 0, 286: <pyomo.core.expr.expr_pyomo5.ProductExpression object at 0x7f52cfbbd7c8>, 287: <pyomo.core.expr.expr_pyomo5.ProductExpression object at 0x7f52cfbc0258>, 288: <pyomo.core.expr.expr_pyomo5.ProductExpression object at 0x7f52cfbc0378>, 289: 0, 290: 0, 291: <pyomo.core.expr.expr_pyomo5.ProductExpression object at 0x7f52cfb46348>, 292: 0, 293: 0, 294: <pyomo.core.expr.expr_pyomo5.ProductExpression object at 0x7f52cfb4c2e8>, 295: <pyomo.core.expr.expr_pyomo5.ProductExpression object at 0x7f52cfb4e648>, 296: 0, 297: 0, 298: <pyomo.core.expr.expr_pyomo5.ProductExpression object at 0x7f52cfb54648>, 299: 0, 300: 0, 301: <pyomo.core.expr.expr_pyomo5.ProductExpression object at 0x7f52cfb5a5e8>, 302: <pyomo.core.expr.expr_pyomo5.ProductExpression object at 0x7f52cfb5d0a8>, 303: 0, 304: <pyomo.core.expr.expr_pyomo5.ProductExpression object at 0x7f52cfb615b8>, 305: <pyomo.core.expr.expr_pyomo5.ProductExpression object at 0x7f52cfb63078>, 306: 0, 307: 0, 308: 0, 309: 0, 310: 0, 311: 0, 312: <pyomo.core.expr.expr_pyomo5.ProductExpression object at 0x7f52cfb6f1c8>, 313: 0, 314: 0, 315: <pyomo.core.expr.expr_pyomo5.ProductExpression object at 0x7f52cfb74168>, 316: 0}\n",
            "{0: <pyomo.core.expr.expr_pyomo5.ReciprocalExpression object at 0x7f52cfccae88>, 1: 0, 2: <pyomo.core.expr.expr_pyomo5.ReciprocalExpression object at 0x7f52cfd43258>, 3: <pyomo.core.expr.expr_pyomo5.ReciprocalExpression object at 0x7f52cfd3afd8>, 4: <pyomo.core.expr.expr_pyomo5.ReciprocalExpression object at 0x7f52cfd3d3a8>, 5: 0, 6: 0, 7: <pyomo.core.expr.expr_pyomo5.ReciprocalExpression object at 0x7f52cfd324f8>, 8: <pyomo.core.expr.expr_pyomo5.ReciprocalExpression object at 0x7f52cfd2d9d8>, 9: 0, 10: <pyomo.core.expr.expr_pyomo5.ReciprocalExpression object at 0x7f52cfd24438>, 11: 0, 12: <pyomo.core.expr.expr_pyomo5.ReciprocalExpression object at 0x7f52cfd20108>, 13: 0, 14: 0, 15: <pyomo.core.expr.expr_pyomo5.ReciprocalExpression object at 0x7f52cfd0be28>, 16: <pyomo.core.expr.expr_pyomo5.ReciprocalExpression object at 0x7f52cfd0bac8>, 17: <pyomo.core.expr.expr_pyomo5.ReciprocalExpression object at 0x7f52cfd06c78>, 18: <pyomo.core.expr.expr_pyomo5.ReciprocalExpression object at 0x7f52cfd81858>, 19: <pyomo.core.expr.expr_pyomo5.ReciprocalExpression object at 0x7f52cfd7ef78>, 20: <pyomo.core.expr.expr_pyomo5.ReciprocalExpression object at 0x7f52cfd7b0d8>, 21: 0, 22: 0, 23: <pyomo.core.expr.expr_pyomo5.ReciprocalExpression object at 0x7f52cfd71588>, 24: <pyomo.core.expr.expr_pyomo5.ReciprocalExpression object at 0x7f52cfd66b58>, 25: <pyomo.core.expr.expr_pyomo5.ReciprocalExpression object at 0x7f52cfd64978>, 26: 0, 27: <pyomo.core.expr.expr_pyomo5.ReciprocalExpression object at 0x7f52cfd61948>, 28: 0, 29: 0, 30: <pyomo.core.expr.expr_pyomo5.ReciprocalExpression object at 0x7f52cfd548b8>, 31: <pyomo.core.expr.expr_pyomo5.ReciprocalExpression object at 0x7f52cfd57438>, 32: <pyomo.core.expr.expr_pyomo5.ReciprocalExpression object at 0x7f52cfd528b8>, 33: 0, 34: 0, 35: 0, 36: 0, 37: 0, 38: <pyomo.core.expr.expr_pyomo5.ReciprocalExpression object at 0x7f52cfdbd348>, 39: <pyomo.core.expr.expr_pyomo5.ReciprocalExpression object at 0x7f52cfdbb2b8>, 40: 0, 41: <pyomo.core.expr.expr_pyomo5.ReciprocalExpression object at 0x7f52cfdb5738>, 42: <pyomo.core.expr.expr_pyomo5.ReciprocalExpression object at 0x7f52cfdabfa8>, 43: 0, 44: 0, 45: <pyomo.core.expr.expr_pyomo5.ReciprocalExpression object at 0x7f52cfd94d68>, 46: 0, 47: <pyomo.core.expr.expr_pyomo5.ReciprocalExpression object at 0x7f52cfd8e648>, 48: 0, 49: 0, 50: <pyomo.core.expr.expr_pyomo5.ReciprocalExpression object at 0x7f52cfdfc978>, 51: <pyomo.core.expr.expr_pyomo5.ReciprocalExpression object at 0x7f52cfdfc528>, 52: 0, 53: <pyomo.core.expr.expr_pyomo5.ReciprocalExpression object at 0x7f52cfdf7768>, 54: 0, 55: 0, 56: <pyomo.core.expr.expr_pyomo5.ReciprocalExpression object at 0x7f52cfdea1f8>, 57: 0, 58: <pyomo.core.expr.expr_pyomo5.ReciprocalExpression object at 0x7f52cfde29d8>, 59: <pyomo.core.expr.expr_pyomo5.ReciprocalExpression object at 0x7f52cfde2588>, 60: <pyomo.core.expr.expr_pyomo5.ReciprocalExpression object at 0x7f52cfdddd38>, 61: <pyomo.core.expr.expr_pyomo5.ReciprocalExpression object at 0x7f52cfddd858>, 62: <pyomo.core.expr.expr_pyomo5.ReciprocalExpression object at 0x7f52cfe47828>, 63: 0, 64: <pyomo.core.expr.expr_pyomo5.ReciprocalExpression object at 0x7f52cfe5e288>, 65: 0, 66: <pyomo.core.expr.expr_pyomo5.ReciprocalExpression object at 0x7f52cff0bd08>, 67: <pyomo.core.expr.expr_pyomo5.ReciprocalExpression object at 0x7f52cff7d258>, 68: <pyomo.core.expr.expr_pyomo5.ReciprocalExpression object at 0x7f52cff6e888>, 69: <pyomo.core.expr.expr_pyomo5.ReciprocalExpression object at 0x7f52cff707c8>, 70: <pyomo.core.expr.expr_pyomo5.ReciprocalExpression object at 0x7f52cff599a8>, 71: 0, 72: 0, 73: <pyomo.core.expr.expr_pyomo5.ReciprocalExpression object at 0x7f52cff9d048>, 74: 0, 75: <pyomo.core.expr.expr_pyomo5.ReciprocalExpression object at 0x7f52cffc7078>, 76: 0, 77: 0, 78: 0, 79: 0, 80: <pyomo.core.expr.expr_pyomo5.ReciprocalExpression object at 0x7f52d0719228>, 81: 0, 82: 0, 83: <pyomo.core.expr.expr_pyomo5.ReciprocalExpression object at 0x7f52d0532048>, 84: <pyomo.core.expr.expr_pyomo5.ReciprocalExpression object at 0x7f52d0090258>, 85: 0, 86: 0, 87: 0, 88: 0, 89: 0, 90: <pyomo.core.expr.expr_pyomo5.ReciprocalExpression object at 0x7f52cff416d8>, 91: <pyomo.core.expr.expr_pyomo5.ReciprocalExpression object at 0x7f52cff3fdf8>, 92: <pyomo.core.expr.expr_pyomo5.ReciprocalExpression object at 0x7f52cff446d8>, 93: <pyomo.core.expr.expr_pyomo5.ReciprocalExpression object at 0x7f52cfecbb88>, 94: <pyomo.core.expr.expr_pyomo5.ReciprocalExpression object at 0x7f52cfed4bb8>, 95: 0, 96: <pyomo.core.expr.expr_pyomo5.ReciprocalExpression object at 0x7f52cfed6978>, 97: 0, 98: 0, 99: 0, 100: 0, 101: <pyomo.core.expr.expr_pyomo5.ReciprocalExpression object at 0x7f52cfef8648>, 102: 0, 103: <pyomo.core.expr.expr_pyomo5.ReciprocalExpression object at 0x7f52cfe9c528>, 104: 0, 105: 0, 106: 0, 107: 0, 108: <pyomo.core.expr.expr_pyomo5.ReciprocalExpression object at 0x7f52cfec1ee8>, 109: 0, 110: <pyomo.core.expr.expr_pyomo5.ReciprocalExpression object at 0x7f52cfe50b88>, 111: 0, 112: <pyomo.core.expr.expr_pyomo5.ReciprocalExpression object at 0x7f52cfe5b858>, 113: 0, 114: 0, 115: 0, 116: 0, 117: 0, 118: 0, 119: 0, 120: 0, 121: 0, 122: <pyomo.core.expr.expr_pyomo5.ReciprocalExpression object at 0x7f52cfe225b8>, 123: 0, 124: 0, 125: 0, 126: 0, 127: 0, 128: 0, 129: 0, 130: <pyomo.core.expr.expr_pyomo5.ReciprocalExpression object at 0x7f52cfc9c918>, 131: <pyomo.core.expr.expr_pyomo5.ReciprocalExpression object at 0x7f52cfca03a8>, 132: <pyomo.core.expr.expr_pyomo5.ReciprocalExpression object at 0x7f52cfca0e28>, 133: 0, 134: <pyomo.core.expr.expr_pyomo5.ReciprocalExpression object at 0x7f52cfca5378>, 135: <pyomo.core.expr.expr_pyomo5.ReciprocalExpression object at 0x7f52cfca5dc8>, 136: <pyomo.core.expr.expr_pyomo5.ReciprocalExpression object at 0x7f52cfca87f8>, 137: <pyomo.core.expr.expr_pyomo5.ReciprocalExpression object at 0x7f52cfcab288>, 138: 0, 139: 0, 140: <pyomo.core.expr.expr_pyomo5.ReciprocalExpression object at 0x7f52cfcb01f8>, 141: <pyomo.core.expr.expr_pyomo5.ReciprocalExpression object at 0x7f52cfcb0c78>, 142: 0, 143: 0, 144: <pyomo.core.expr.expr_pyomo5.ReciprocalExpression object at 0x7f52cfcb5c78>, 145: <pyomo.core.expr.expr_pyomo5.ReciprocalExpression object at 0x7f52cfcb9708>, 146: <pyomo.core.expr.expr_pyomo5.ReciprocalExpression object at 0x7f52cfcbb1c8>, 147: <pyomo.core.expr.expr_pyomo5.ReciprocalExpression object at 0x7f52cfcbbc18>, 148: 0, 149: <pyomo.core.expr.expr_pyomo5.ReciprocalExpression object at 0x7f52cfcc1138>, 150: 0, 151: 0, 152: <pyomo.core.expr.expr_pyomo5.ReciprocalExpression object at 0x7f52cfc47108>, 153: 0, 154: 0, 155: <pyomo.core.expr.expr_pyomo5.ReciprocalExpression object at 0x7f52cfc4c0a8>, 156: <pyomo.core.expr.expr_pyomo5.ReciprocalExpression object at 0x7f52cfc4caf8>, 157: 0, 158: <pyomo.core.expr.expr_pyomo5.ReciprocalExpression object at 0x7f52cfc4efd8>, 159: <pyomo.core.expr.expr_pyomo5.ReciprocalExpression object at 0x7f52cfc52a68>, 160: 0, 161: 0, 162: <pyomo.core.expr.expr_pyomo5.ReciprocalExpression object at 0x7f52cfc59a08>, 163: <pyomo.core.expr.expr_pyomo5.ReciprocalExpression object at 0x7f52cfc5b498>, 164: 0, 165: <pyomo.core.expr.expr_pyomo5.ReciprocalExpression object at 0x7f52cfc5d9a8>, 166: 0, 167: 0, 168: <pyomo.core.expr.expr_pyomo5.ReciprocalExpression object at 0x7f52cfc64948>, 169: 0, 170: <pyomo.core.expr.expr_pyomo5.ReciprocalExpression object at 0x7f52cfc67e58>, 171: 0, 172: <pyomo.core.expr.expr_pyomo5.ReciprocalExpression object at 0x7f52cfc6b378>, 173: 0, 174: <pyomo.core.expr.expr_pyomo5.ReciprocalExpression object at 0x7f52cfc6e888>, 175: <pyomo.core.expr.expr_pyomo5.ReciprocalExpression object at 0x7f52cfc70318>, 176: <pyomo.core.expr.expr_pyomo5.ReciprocalExpression object at 0x7f52cfc70d98>, 177: 0, 178: <pyomo.core.expr.expr_pyomo5.ReciprocalExpression object at 0x7f52cfc772e8>, 179: 0, 180: 0, 181: 0, 182: 0, 183: 0, 184: 0, 185: 0, 186: <pyomo.core.expr.expr_pyomo5.ReciprocalExpression object at 0x7f52cfc85708>, 187: 0, 188: <pyomo.core.expr.expr_pyomo5.ReciprocalExpression object at 0x7f52cfc08c18>, 189: <pyomo.core.expr.expr_pyomo5.ReciprocalExpression object at 0x7f52cfc0a6a8>, 190: <pyomo.core.expr.expr_pyomo5.ReciprocalExpression object at 0x7f52cfc0d168>, 191: 0, 192: <pyomo.core.expr.expr_pyomo5.ReciprocalExpression object at 0x7f52cfc10648>, 193: 0, 194: 0, 195: 0, 196: 0, 197: <pyomo.core.expr.expr_pyomo5.ReciprocalExpression object at 0x7f52cfc18b58>, 198: <pyomo.core.expr.expr_pyomo5.ReciprocalExpression object at 0x7f52cfc1b618>, 199: <pyomo.core.expr.expr_pyomo5.ReciprocalExpression object at 0x7f52cfc1e0a8>, 200: <pyomo.core.expr.expr_pyomo5.ReciprocalExpression object at 0x7f52cfc1eaf8>, 201: 0, 202: 0, 203: 0, 204: 0, 205: 0, 206: 0, 207: <pyomo.core.expr.expr_pyomo5.ReciprocalExpression object at 0x7f52cfc2b588>, 208: 0, 209: 0, 210: 0, 211: 0, 212: 0, 213: <pyomo.core.expr.expr_pyomo5.ReciprocalExpression object at 0x7f52cfc374c8>, 214: 0, 215: <pyomo.core.expr.expr_pyomo5.ReciprocalExpression object at 0x7f52cfc3aa08>, 216: <pyomo.core.expr.expr_pyomo5.ReciprocalExpression object at 0x7f52cfc3d4c8>, 217: 0, 218: <pyomo.core.expr.expr_pyomo5.ReciprocalExpression object at 0x7f52cfc3f9a8>, 219: 0, 220: <pyomo.core.expr.expr_pyomo5.ReciprocalExpression object at 0x7f52cfc42e58>, 221: <pyomo.core.expr.expr_pyomo5.ReciprocalExpression object at 0x7f52cfc458b8>, 222: 0, 223: <pyomo.core.expr.expr_pyomo5.ReciprocalExpression object at 0x7f52cfbc8df8>, 224: 0, 225: 0, 226: <pyomo.core.expr.expr_pyomo5.ReciprocalExpression object at 0x7f52cfbced68>, 227: <pyomo.core.expr.expr_pyomo5.ReciprocalExpression object at 0x7f52cfbd0828>, 228: 0, 229: 0, 230: <pyomo.core.expr.expr_pyomo5.ReciprocalExpression object at 0x7f52cfbd67f8>, 231: 0, 232: <pyomo.core.expr.expr_pyomo5.ReciprocalExpression object at 0x7f52cfbd8d08>, 233: 0, 234: <pyomo.core.expr.expr_pyomo5.ReciprocalExpression object at 0x7f52cfbde228>, 235: <pyomo.core.expr.expr_pyomo5.ReciprocalExpression object at 0x7f52cfbdec48>, 236: 0, 237: <pyomo.core.expr.expr_pyomo5.ReciprocalExpression object at 0x7f52cfbe3198>, 238: <pyomo.core.expr.expr_pyomo5.ReciprocalExpression object at 0x7f52cfbe3c18>, 239: 0, 240: <pyomo.core.expr.expr_pyomo5.ReciprocalExpression object at 0x7f52cfbea168>, 241: 0, 242: <pyomo.core.expr.expr_pyomo5.ReciprocalExpression object at 0x7f52cfbec6a8>, 243: <pyomo.core.expr.expr_pyomo5.ReciprocalExpression object at 0x7f52cfbef138>, 244: <pyomo.core.expr.expr_pyomo5.ReciprocalExpression object at 0x7f52cfbefb88>, 245: 0, 246: <pyomo.core.expr.expr_pyomo5.ReciprocalExpression object at 0x7f52cfbf4108>, 247: 0, 248: 0, 249: 0, 250: <pyomo.core.expr.expr_pyomo5.ReciprocalExpression object at 0x7f52cfbfab28>, 251: <pyomo.core.expr.expr_pyomo5.ReciprocalExpression object at 0x7f52cfbfd5b8>, 252: <pyomo.core.expr.expr_pyomo5.ReciprocalExpression object at 0x7f52cfbff048>, 253: 0, 254: <pyomo.core.expr.expr_pyomo5.ReciprocalExpression object at 0x7f52cfc02588>, 255: 0, 256: <pyomo.core.expr.expr_pyomo5.ReciprocalExpression object at 0x7f52cfc05a68>, 257: 0, 258: <pyomo.core.expr.expr_pyomo5.ReciprocalExpression object at 0x7f52cfb89fa8>, 259: <pyomo.core.expr.expr_pyomo5.ReciprocalExpression object at 0x7f52cfb8ba68>, 260: 0, 261: <pyomo.core.expr.expr_pyomo5.ReciprocalExpression object at 0x7f52cfb8df78>, 262: <pyomo.core.expr.expr_pyomo5.ReciprocalExpression object at 0x7f52cfb90a38>, 263: 0, 264: 0, 265: 0, 266: <pyomo.core.expr.expr_pyomo5.ReciprocalExpression object at 0x7f52cfb99498>, 267: <pyomo.core.expr.expr_pyomo5.ReciprocalExpression object at 0x7f52cfb99f18>, 268: <pyomo.core.expr.expr_pyomo5.ReciprocalExpression object at 0x7f52cfb9c9a8>, 269: <pyomo.core.expr.expr_pyomo5.ReciprocalExpression object at 0x7f52cfb9e438>, 270: <pyomo.core.expr.expr_pyomo5.ReciprocalExpression object at 0x7f52cfb9eeb8>, 271: 0, 272: <pyomo.core.expr.expr_pyomo5.ReciprocalExpression object at 0x7f52cfba4408>, 273: 0, 274: 0, 275: 0, 276: 0, 277: <pyomo.core.expr.expr_pyomo5.ReciprocalExpression object at 0x7f52cfbac918>, 278: 0, 279: 0, 280: 0, 281: 0, 282: <pyomo.core.expr.expr_pyomo5.ReciprocalExpression object at 0x7f52cfbb4e28>, 283: <pyomo.core.expr.expr_pyomo5.ReciprocalExpression object at 0x7f52cfbb7888>, 284: 0, 285: 0, 286: <pyomo.core.expr.expr_pyomo5.ReciprocalExpression object at 0x7f52cfbbd888>, 287: <pyomo.core.expr.expr_pyomo5.ReciprocalExpression object at 0x7f52cfbc0318>, 288: <pyomo.core.expr.expr_pyomo5.ReciprocalExpression object at 0x7f52cfbc0d68>, 289: 0, 290: 0, 291: <pyomo.core.expr.expr_pyomo5.ReciprocalExpression object at 0x7f52cfb46cd8>, 292: 0, 293: 0, 294: <pyomo.core.expr.expr_pyomo5.ReciprocalExpression object at 0x7f52cfb4cc78>, 295: <pyomo.core.expr.expr_pyomo5.ReciprocalExpression object at 0x7f52cfb4e708>, 296: 0, 297: 0, 298: <pyomo.core.expr.expr_pyomo5.ReciprocalExpression object at 0x7f52cfb54708>, 299: 0, 300: 0, 301: <pyomo.core.expr.expr_pyomo5.ReciprocalExpression object at 0x7f52cfb5a6a8>, 302: <pyomo.core.expr.expr_pyomo5.ReciprocalExpression object at 0x7f52cfb5d168>, 303: 0, 304: <pyomo.core.expr.expr_pyomo5.ReciprocalExpression object at 0x7f52cfb61678>, 305: <pyomo.core.expr.expr_pyomo5.ReciprocalExpression object at 0x7f52cfb63138>, 306: 0, 307: 0, 308: 0, 309: 0, 310: 0, 311: 0, 312: <pyomo.core.expr.expr_pyomo5.ReciprocalExpression object at 0x7f52cfb6fb88>, 313: 0, 314: 0, 315: <pyomo.core.expr.expr_pyomo5.ReciprocalExpression object at 0x7f52cfb74b28>, 316: 0}\n",
            "0.5\n",
            "0.5\n"
          ],
          "name": "stdout"
        }
      ]
    },
    {
      "metadata": {
        "id": "H1nsk6fSGF15",
        "colab_type": "code",
        "outputId": "9ae67406-2ef8-4616-9755-4c0989f0c2ed",
        "colab": {
          "base_uri": "https://localhost:8080/",
          "height": 595
        }
      },
      "cell_type": "code",
      "source": [
        "# Send the job to Neos to solve\n",
        "#opt = SolverFactory(\"conopt\")\n",
        "#solver_manager = pyo.SolverManagerFactory('neos')\n",
        "#results = solver_manager.solve(model, opt=opt)\n",
        "\n",
        "# Call the Solver and Display the Results:\n",
        "solver_choice = pyo.SolverFactory(\"couenne\", executable = \"/content/couenne\")\n",
        "\n",
        "results = solver_choice.solve(model)\n",
        "if str(results.Solver.status) == \"ok\":\n",
        "  print(\"Results\\n-------------\")\n",
        "  model.pprint()\n",
        "model.solutions.store_to(results)\n",
        "print(\"\\n \")\n",
        "print(\"Summarized Results\\n-------------\")\n",
        "print(results)\n",
        "\n"
      ],
      "execution_count": 0,
      "outputs": [
        {
          "output_type": "stream",
          "text": [
            "WARNING: Loading a SolverResults object with a warning status into\n",
            "    model=unknown;\n",
            "        message from solver=couenne\\x3a Infeasible problem\n",
            "\n",
            " \n",
            "Summarized Results\n",
            "-------------\n",
            "\n",
            "Problem: \n",
            "- Lower bound: -inf\n",
            "  Upper bound: inf\n",
            "  Number of objectives: 1\n",
            "  Number of constraints: 0\n",
            "  Number of variables: 0\n",
            "  Sense: unknown\n",
            "Solver: \n",
            "- Status: warning\n",
            "  Message: couenne\\x3a Infeasible problem\n",
            "  Termination condition: infeasible\n",
            "  Id: 220\n",
            "  Error rc: 0\n",
            "  Time: 37.980172634124756\n",
            "Solution: \n",
            "- number of solutions: 1\n",
            "  number of solutions displayed: 1\n",
            "- Gap: None\n",
            "  Status: infeasible\n",
            "  Message: couenne\\x3a Infeasible problem\n",
            "  Objective:\n",
            "    objective:\n",
            "      Value: 0.0015772870662460567\n",
            "  Variable: No values\n",
            "  Constraint: No values\n",
            "\n"
          ],
          "name": "stdout"
        }
      ]
    }
  ]
}